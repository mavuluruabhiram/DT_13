{
 "cells": [
  {
   "cell_type": "markdown",
   "id": "3132ecad",
   "metadata": {},
   "source": []
  },
  {
   "cell_type": "code",
   "execution_count": 2,
   "id": "ac7196fc",
   "metadata": {},
   "outputs": [],
   "source": [
    "import numpy as np \n",
    "import pandas as pd "
   ]
  },
  {
   "cell_type": "code",
   "execution_count": 3,
   "id": "3414839b",
   "metadata": {},
   "outputs": [
    {
     "data": {
      "text/plain": [
       "Series([], dtype: object)"
      ]
     },
     "execution_count": 3,
     "metadata": {},
     "output_type": "execute_result"
    }
   ],
   "source": [
    "pd.Series()"
   ]
  },
  {
   "cell_type": "markdown",
   "id": "f3f6375c",
   "metadata": {},
   "source": [
    "### Creating A Series Object"
   ]
  },
  {
   "cell_type": "code",
   "execution_count": 3,
   "id": "a65e77c4",
   "metadata": {},
   "outputs": [
    {
     "data": {
      "text/plain": [
       "0    1\n",
       "1    2\n",
       "2    3\n",
       "3    4\n",
       "4    5\n",
       "5    6\n",
       "dtype: int64"
      ]
     },
     "execution_count": 3,
     "metadata": {},
     "output_type": "execute_result"
    }
   ],
   "source": [
    "pd.Series([1,2,3,4,5,6])"
   ]
  },
  {
   "cell_type": "code",
   "execution_count": 5,
   "id": "4e4d5be0",
   "metadata": {},
   "outputs": [
    {
     "data": {
      "text/plain": [
       "0    1\n",
       "1    2\n",
       "2    3\n",
       "3    4\n",
       "4    5\n",
       "5    6\n",
       "dtype: int64"
      ]
     },
     "execution_count": 5,
     "metadata": {},
     "output_type": "execute_result"
    }
   ],
   "source": [
    "pd.Series(data = [1,2,3,4,5,6])  # Both are same"
   ]
  },
  {
   "cell_type": "markdown",
   "id": "1f1288bf",
   "metadata": {},
   "source": [
    "### Creating a Series"
   ]
  },
  {
   "cell_type": "code",
   "execution_count": 19,
   "id": "0801b7ac",
   "metadata": {},
   "outputs": [
    {
     "data": {
      "text/plain": [
       "monday        chocolate\n",
       "wednesday       vanilla\n",
       "friday       strawberry\n",
       "saturday     rum raisin\n",
       "dtype: object"
      ]
     },
     "execution_count": 19,
     "metadata": {},
     "output_type": "execute_result"
    }
   ],
   "source": [
    "ice_cream = [\n",
    "\n",
    "    'chocolate' ,\n",
    "    'vanilla',\n",
    "    'strawberry' , \n",
    "    'rum raisin'\n",
    "]\n",
    "\n",
    "days = ['monday' , 'wednesday' , 'friday' , 'saturday']\n",
    "\n",
    "pd.Series(data = ice_cream , index = days)"
   ]
  },
  {
   "cell_type": "code",
   "execution_count": 16,
   "id": "4a9c6a6a",
   "metadata": {},
   "outputs": [
    {
     "data": {
      "text/plain": [
       "0      True\n",
       "1    False \n",
       "2      True\n",
       "dtype: object"
      ]
     },
     "execution_count": 16,
     "metadata": {},
     "output_type": "execute_result"
    }
   ],
   "source": [
    "bunch_of_bools = ['True' , 'False ', 'True']\n",
    "pd.Series(bunch_of_bools)"
   ]
  },
  {
   "cell_type": "code",
   "execution_count": 20,
   "id": "ea060767",
   "metadata": {},
   "outputs": [
    {
     "data": {
      "text/plain": [
       "open     123.45\n",
       "close    140.20\n",
       "dtype: float64"
      ]
     },
     "execution_count": 20,
     "metadata": {},
     "output_type": "execute_result"
    }
   ],
   "source": [
    "stock_price = [123.45 , 140.20]\n",
    "time_of_day = ['open' , 'close']\n",
    "pd.Series(data = stock_price , index = time_of_day)"
   ]
  },
  {
   "cell_type": "code",
   "execution_count": 21,
   "id": "4105c3b1",
   "metadata": {},
   "outputs": [
    {
     "data": {
      "text/plain": [
       "0     10\n",
       "1     20\n",
       "2     40\n",
       "3     56\n",
       "4     66\n",
       "5     78\n",
       "6      1\n",
       "7     22\n",
       "8      5\n",
       "9     33\n",
       "10     2\n",
       "11     4\n",
       "12     6\n",
       "dtype: int64"
      ]
     },
     "execution_count": 21,
     "metadata": {},
     "output_type": "execute_result"
    }
   ],
   "source": [
    "random_num = [10,20,40,56,66,78,1,22,5,33,2,4,6]\n",
    "pd.Series(random_num)"
   ]
  },
  {
   "cell_type": "code",
   "execution_count": 22,
   "id": "8059e5b7",
   "metadata": {},
   "outputs": [
    {
     "data": {
      "text/plain": [
       "0     10.0\n",
       "1     20.0\n",
       "2     40.0\n",
       "3     56.0\n",
       "4     66.0\n",
       "5     78.0\n",
       "6      1.0\n",
       "7     22.0\n",
       "8      5.0\n",
       "9     33.0\n",
       "10     2.0\n",
       "11     4.0\n",
       "12     6.0\n",
       "dtype: float64"
      ]
     },
     "execution_count": 22,
     "metadata": {},
     "output_type": "execute_result"
    }
   ],
   "source": [
    "random_num = [10,20,40,56,66,78,1,22,5,33,2,4,6]\n",
    "pd.Series(random_num , dtype = np.float64)"
   ]
  },
  {
   "cell_type": "markdown",
   "id": "b6a269eb",
   "metadata": {},
   "source": [
    "### Missing Values"
   ]
  },
  {
   "cell_type": "code",
   "execution_count": null,
   "id": "6ee618b6",
   "metadata": {},
   "outputs": [
    {
     "data": {
      "text/plain": [
       "0    30.5\n",
       "1    32.0\n",
       "2     NaN\n",
       "3    31.2\n",
       "dtype: float64"
      ]
     },
     "execution_count": 24,
     "metadata": {},
     "output_type": "execute_result"
    }
   ],
   "source": [
    "temperatures = [ 30.5 , 32.0 , np.nan , 31.2]    # np.nan = not a num ( missing value )\n",
    "pd.Series(temperatures)"
   ]
  },
  {
   "cell_type": "markdown",
   "id": "e57d92d8",
   "metadata": {},
   "source": [
    "#### Create a Series from Python Objects"
   ]
  },
  {
   "cell_type": "code",
   "execution_count": 29,
   "id": "a9a6b90e",
   "metadata": {},
   "outputs": [
    {
     "data": {
      "text/plain": [
       "biriyani    1000\n",
       "pizza        800\n",
       "burger       500\n",
       "pasta        600\n",
       "dtype: int64"
      ]
     },
     "execution_count": 29,
     "metadata": {},
     "output_type": "execute_result"
    }
   ],
   "source": [
    "calories = { \n",
    "              'biriyani' : 1000 , \n",
    "              'pizza' : 800, \n",
    "              'burger' : 500, \n",
    "              'pasta' : 600,\n",
    "            }\n",
    "diet = pd.Series(calories)\n",
    "diet"
   ]
  },
  {
   "cell_type": "code",
   "execution_count": 30,
   "id": "6da8b9c8",
   "metadata": {},
   "outputs": [
    {
     "data": {
      "text/plain": [
       "array([1000,  800,  500,  600])"
      ]
     },
     "execution_count": 30,
     "metadata": {},
     "output_type": "execute_result"
    }
   ],
   "source": [
    "diet.values"
   ]
  },
  {
   "cell_type": "code",
   "execution_count": 34,
   "id": "fe0f9440",
   "metadata": {},
   "outputs": [
    {
     "data": {
      "text/plain": [
       "Index(['biriyani', 'pizza', 'burger', 'pasta'], dtype='object')"
      ]
     },
     "execution_count": 34,
     "metadata": {},
     "output_type": "execute_result"
    }
   ],
   "source": [
    "diet.index"
   ]
  },
  {
   "cell_type": "code",
   "execution_count": 35,
   "id": "0099035b",
   "metadata": {},
   "outputs": [
    {
     "data": {
      "text/plain": [
       "4"
      ]
     },
     "execution_count": 35,
     "metadata": {},
     "output_type": "execute_result"
    }
   ],
   "source": [
    "diet.size"
   ]
  },
  {
   "cell_type": "code",
   "execution_count": 36,
   "id": "9511405a",
   "metadata": {},
   "outputs": [
    {
     "data": {
      "text/plain": [
       "(4,)"
      ]
     },
     "execution_count": 36,
     "metadata": {},
     "output_type": "execute_result"
    }
   ],
   "source": [
    "diet.shape"
   ]
  },
  {
   "cell_type": "code",
   "execution_count": 37,
   "id": "c30e9e98",
   "metadata": {},
   "outputs": [
    {
     "data": {
      "text/plain": [
       "dtype('int64')"
      ]
     },
     "execution_count": 37,
     "metadata": {},
     "output_type": "execute_result"
    }
   ],
   "source": [
    "diet.dtype"
   ]
  },
  {
   "cell_type": "code",
   "execution_count": null,
   "id": "48455df2",
   "metadata": {},
   "outputs": [
    {
     "data": {
      "text/plain": [
       "True"
      ]
     },
     "execution_count": 38,
     "metadata": {},
     "output_type": "execute_result"
    }
   ],
   "source": [
    "diet.is_unique   # NO Duplicate Values"
   ]
  },
  {
   "cell_type": "code",
   "execution_count": 4,
   "id": "f22defe4",
   "metadata": {},
   "outputs": [
    {
     "data": {
      "text/plain": [
       "False"
      ]
     },
     "execution_count": 4,
     "metadata": {},
     "output_type": "execute_result"
    }
   ],
   "source": [
    "s1 = pd.Series([1, 2, 3, 3, 4])\n",
    "s1.is_unique"
   ]
  },
  {
   "cell_type": "code",
   "execution_count": null,
   "id": "53d84330",
   "metadata": {},
   "outputs": [
    {
     "data": {
      "text/plain": [
       "True"
      ]
     },
     "execution_count": 5,
     "metadata": {},
     "output_type": "execute_result"
    }
   ],
   "source": [
    "s2 = pd.Series([1, 2, 3, 4])\n",
    "s2.is_monotonic_increasing\n"
   ]
  },
  {
   "cell_type": "code",
   "execution_count": 6,
   "id": "6333889c",
   "metadata": {},
   "outputs": [
    {
     "data": {
      "text/plain": [
       "False"
      ]
     },
     "execution_count": 6,
     "metadata": {},
     "output_type": "execute_result"
    }
   ],
   "source": [
    "s2 = pd.Series([1, 2, 3, 4])\n",
    "s2.is_monotonic_decreasing"
   ]
  },
  {
   "cell_type": "code",
   "execution_count": 12,
   "id": "070c8f0c",
   "metadata": {},
   "outputs": [
    {
     "data": {
      "text/plain": [
       "0     4\n",
       "1     3\n",
       "2     2\n",
       "3     1\n",
       "4    10\n",
       "dtype: int64"
      ]
     },
     "execution_count": 12,
     "metadata": {},
     "output_type": "execute_result"
    }
   ],
   "source": [
    "s3 = pd.Series([4, 3, 2, 1, 10, 25])\n",
    "s3.head()"
   ]
  },
  {
   "cell_type": "code",
   "execution_count": null,
   "id": "6354116e",
   "metadata": {},
   "outputs": [
    {
     "data": {
      "text/plain": [
       "3     1\n",
       "4    10\n",
       "5    25\n",
       "dtype: int64"
      ]
     },
     "execution_count": 8,
     "metadata": {},
     "output_type": "execute_result"
    }
   ],
   "source": [
    "s3.tail(n=3) # starts from 3"
   ]
  },
  {
   "cell_type": "markdown",
   "id": "f3a373d1",
   "metadata": {},
   "source": [
    "### Statistical operations"
   ]
  },
  {
   "cell_type": "code",
   "execution_count": 13,
   "id": "a8fcbe58",
   "metadata": {},
   "outputs": [],
   "source": [
    "numbers = pd.Series([1, 2, 3, np.nan, 4, 5])"
   ]
  },
  {
   "cell_type": "code",
   "execution_count": 15,
   "id": "981d52b7",
   "metadata": {},
   "outputs": [
    {
     "name": "stdout",
     "output_type": "stream",
     "text": [
      "5\n"
     ]
    }
   ],
   "source": [
    "print(numbers.count())"
   ]
  },
  {
   "cell_type": "code",
   "execution_count": 17,
   "id": "d7871234",
   "metadata": {},
   "outputs": [
    {
     "name": "stdout",
     "output_type": "stream",
     "text": [
      "15.0\n"
     ]
    }
   ],
   "source": [
    "print(numbers.sum())"
   ]
  },
  {
   "cell_type": "code",
   "execution_count": 20,
   "id": "aeb38cb6",
   "metadata": {},
   "outputs": [
    {
     "name": "stdout",
     "output_type": "stream",
     "text": [
      "nan\n"
     ]
    }
   ],
   "source": [
    "print(numbers.sum(skipna=False))\n",
    "\n",
    "                                # skipna stands for “skip NaN values”.\n",
    "\n",
    "                                # By default: skipna=True → ignores NaN values while summing.\n",
    "\n",
    "                                # If you set skipna=False:\n",
    "\n",
    "                                # If any NaN is present, the result will be NaN."
   ]
  },
  {
   "cell_type": "code",
   "execution_count": 25,
   "id": "19f85905",
   "metadata": {},
   "outputs": [
    {
     "name": "stdout",
     "output_type": "stream",
     "text": [
      "0    1.0\n",
      "1    2.0\n",
      "2    3.0\n",
      "3    NaN\n",
      "4    4.0\n",
      "5    5.0\n",
      "dtype: float64\n"
     ]
    }
   ],
   "source": [
    "print(numbers)"
   ]
  },
  {
   "cell_type": "code",
   "execution_count": null,
   "id": "0b5e7feb",
   "metadata": {},
   "outputs": [
    {
     "name": "stdout",
     "output_type": "stream",
     "text": [
      "<built-in function sum>\n",
      "15.0\n",
      "nan\n"
     ]
    }
   ],
   "source": [
    "numbers = pd.Series([1, 2, 3, np.nan, 4, 5])\n",
    "\n",
    "print(numbers.sum(min_count=4))               # enough non-NaN values: 4 so adds all\n",
    "\n",
    "print(numbers.sum(min_count=6))          # only 3 valid numbers, need 6 ----> so NAN         "
   ]
  },
  {
   "cell_type": "code",
   "execution_count": 31,
   "id": "2f22d8d5",
   "metadata": {},
   "outputs": [
    {
     "name": "stdout",
     "output_type": "stream",
     "text": [
      "120.0\n",
      "nan\n",
      "120.0\n",
      "nan\n"
     ]
    }
   ],
   "source": [
    "print(numbers.product())\n",
    "print(numbers.product(skipna=False))\n",
    "\n",
    "print(numbers.product(min_count=3))\n",
    "print(numbers.product(min_count=6))"
   ]
  },
  {
   "cell_type": "code",
   "execution_count": 33,
   "id": "b655e164",
   "metadata": {},
   "outputs": [
    {
     "name": "stdout",
     "output_type": "stream",
     "text": [
      "0     1.0\n",
      "1     3.0\n",
      "2     6.0\n",
      "3     NaN\n",
      "4    10.0\n",
      "5    15.0\n",
      "dtype: float64\n",
      "\n",
      "0    1.0\n",
      "1    3.0\n",
      "2    6.0\n",
      "3    NaN\n",
      "4    NaN\n",
      "5    NaN\n",
      "dtype: float64\n"
     ]
    }
   ],
   "source": [
    "# CUMMILATIVE SUM\n",
    "\n",
    "print(numbers.cumsum())\n",
    "\n",
    "print()\n",
    "\n",
    "print(numbers.cumsum(skipna=False))"
   ]
  },
  {
   "cell_type": "markdown",
   "id": "723e8d51",
   "metadata": {},
   "source": [
    "## Percentage Change"
   ]
  },
  {
   "cell_type": "code",
   "execution_count": null,
   "id": "26344e55",
   "metadata": {},
   "outputs": [
    {
     "name": "stderr",
     "output_type": "stream",
     "text": [
      "C:\\Users\\Abhii\\AppData\\Local\\Temp\\ipykernel_12700\\3119621055.py:3: FutureWarning: The default fill_method='pad' in Series.pct_change is deprecated and will be removed in a future version. Either fill in any non-leading NA values prior to calling pct_change or specify 'fill_method=None' to not fill NA values.\n",
      "  numbers.pct_change()\n"
     ]
    },
    {
     "data": {
      "text/plain": [
       "0         NaN\n",
       "1    1.000000\n",
       "2    0.500000\n",
       "3    0.000000\n",
       "4    0.333333\n",
       "5    0.250000\n",
       "dtype: float64"
      ]
     },
     "execution_count": 35,
     "metadata": {},
     "output_type": "execute_result"
    }
   ],
   "source": [
    "numbers = pd.Series([1, 2, 3, np.nan, 4, 5])\n",
    "\n",
    "numbers.pct_change()\n",
    "\n",
    "#  0         NaN\n",
    "#  1    1.000000  (2-1)/1 = 1.0    \n",
    "#  2    0.500000  (3-2)/2 = 0.5\n",
    "#  3    0.000000  (3-3)/3 = 0.0\n",
    "#  4    0.333333  (4-3)/3 = 0.333333\n",
    "#  5    0.250000  (5-4)/4 = 0.25"
   ]
  },
  {
   "cell_type": "markdown",
   "id": "6b9f6b21",
   "metadata": {},
   "source": [
    "#### 'ffill' = forward fill NaNs before computing percentage change"
   ]
  },
  {
   "cell_type": "code",
   "execution_count": 37,
   "id": "15a762bc",
   "metadata": {},
   "outputs": [
    {
     "name": "stdout",
     "output_type": "stream",
     "text": [
      "0         NaN\n",
      "1    1.000000\n",
      "2    0.500000\n",
      "3    0.000000\n",
      "4    0.333333\n",
      "5    0.250000\n",
      "dtype: float64\n"
     ]
    },
    {
     "name": "stderr",
     "output_type": "stream",
     "text": [
      "C:\\Users\\Abhii\\AppData\\Local\\Temp\\ipykernel_12700\\2139375105.py:5: FutureWarning: The 'fill_method' keyword being not None and the 'limit' keyword in Series.pct_change are deprecated and will be removed in a future version. Either fill in any non-leading NA values prior to calling pct_change or specify 'fill_method=None' to not fill NA values.\n",
      "  print(numbers.pct_change(fill_method='ffill'))\n"
     ]
    }
   ],
   "source": [
    "import pandas as pd\n",
    "import numpy as np\n",
    "\n",
    "numbers = pd.Series([1, 2, 3, np.nan, 4, 5])\n",
    "print(numbers.pct_change(fill_method='ffill'))"
   ]
  },
  {
   "cell_type": "markdown",
   "id": "549db960",
   "metadata": {},
   "source": [
    "#### 'bfill' = backward fill NaNs before computing percentage change"
   ]
  },
  {
   "cell_type": "code",
   "execution_count": 38,
   "id": "84abfa44",
   "metadata": {},
   "outputs": [
    {
     "name": "stdout",
     "output_type": "stream",
     "text": [
      "0         NaN\n",
      "1    1.000000\n",
      "2    0.500000\n",
      "3    0.333333\n",
      "4    0.000000\n",
      "5    0.250000\n",
      "dtype: float64\n"
     ]
    },
    {
     "name": "stderr",
     "output_type": "stream",
     "text": [
      "C:\\Users\\Abhii\\AppData\\Local\\Temp\\ipykernel_12700\\2649665900.py:5: FutureWarning: The 'fill_method' keyword being not None and the 'limit' keyword in Series.pct_change are deprecated and will be removed in a future version. Either fill in any non-leading NA values prior to calling pct_change or specify 'fill_method=None' to not fill NA values.\n",
      "  print(numbers.pct_change(fill_method='bfill'))\n"
     ]
    }
   ],
   "source": [
    "import pandas as pd\n",
    "import numpy as np\n",
    "\n",
    "numbers = pd.Series([1, 2, 3, np.nan, 4, 5])\n",
    "print(numbers.pct_change(fill_method='bfill'))"
   ]
  },
  {
   "cell_type": "code",
   "execution_count": 39,
   "id": "fd3a9bc1",
   "metadata": {},
   "outputs": [
    {
     "data": {
      "text/plain": [
       "[1, 4, 4, 4, 4, 4]"
      ]
     },
     "execution_count": 39,
     "metadata": {},
     "output_type": "execute_result"
    }
   ],
   "source": [
    "[1, 2, 3, np.nan, 4, 5]\n",
    "[1, 2, 3, 3, 4, 5]\n",
    "[1, np.nan, np.nan, np.nan, 4, 4]\n",
    "[1, 1, 1, 1, 4, 4] # ffill\n",
    "[1, 4, 4, 4, 4, 4] # bfill"
   ]
  },
  {
   "cell_type": "code",
   "execution_count": 40,
   "id": "0296978c",
   "metadata": {},
   "outputs": [
    {
     "data": {
      "text/plain": [
       "count    5.000000\n",
       "mean     3.000000\n",
       "std      1.581139\n",
       "min      1.000000\n",
       "25%      2.000000\n",
       "50%      3.000000\n",
       "75%      4.000000\n",
       "max      5.000000\n",
       "dtype: float64"
      ]
     },
     "execution_count": 40,
     "metadata": {},
     "output_type": "execute_result"
    }
   ],
   "source": [
    "numbers.describe()"
   ]
  },
  {
   "cell_type": "code",
   "execution_count": null,
   "id": "52731ea2",
   "metadata": {},
   "outputs": [
    {
     "name": "stdout",
     "output_type": "stream",
     "text": [
      "MIN :  apple\n",
      "MAX :  orange\n"
     ]
    }
   ],
   "source": [
    "fruits = pd.Series(['apple', 'orange', 'kiwi'])       # ALPHABETICAL ORDER\n",
    "print('MIN : ' , fruits.min())\n",
    "print('MAX : ' , fruits.max())"
   ]
  },
  {
   "cell_type": "code",
   "execution_count": 45,
   "id": "91f0cb63",
   "metadata": {},
   "outputs": [
    {
     "data": {
      "text/plain": [
       "0    hyd\n",
       "1    amr\n",
       "2    del\n",
       "3    mum\n",
       "4    che\n",
       "5    amr\n",
       "6    hyd\n",
       "dtype: object"
      ]
     },
     "execution_count": 45,
     "metadata": {},
     "output_type": "execute_result"
    }
   ],
   "source": [
    "cities = pd.Series(['hyd', 'amr', 'del', 'mum', 'che', 'amr', 'hyd'])\n",
    "cities\n"
   ]
  },
  {
   "cell_type": "code",
   "execution_count": 46,
   "id": "e58a74b2",
   "metadata": {},
   "outputs": [
    {
     "name": "stdout",
     "output_type": "stream",
     "text": [
      "unique :  ['hyd' 'amr' 'del' 'mum' 'che']\n",
      "Nunique :  5\n"
     ]
    }
   ],
   "source": [
    "print('unique : ' , cities.unique())\n",
    "print('Nunique : ' , cities.nunique())"
   ]
  },
  {
   "cell_type": "code",
   "execution_count": null,
   "id": "ead8f316",
   "metadata": {},
   "outputs": [
    {
     "data": {
      "text/plain": [
       "False"
      ]
     },
     "execution_count": 56,
     "metadata": {},
     "output_type": "execute_result"
    }
   ],
   "source": [
    "'hyd' in cities  # Here, Pandas checks labels of the index, not the values. Index = 1 2 3 ...."
   ]
  },
  {
   "cell_type": "code",
   "execution_count": 57,
   "id": "e8abcf26",
   "metadata": {},
   "outputs": [
    {
     "data": {
      "text/plain": [
       "True"
      ]
     },
     "execution_count": 57,
     "metadata": {},
     "output_type": "execute_result"
    }
   ],
   "source": [
    "'hyd' in list(cities)"
   ]
  },
  {
   "cell_type": "markdown",
   "id": "78e19d96",
   "metadata": {},
   "source": [
    "### Arithmetic Operations"
   ]
  },
  {
   "cell_type": "code",
   "execution_count": 47,
   "id": "466ad6e4",
   "metadata": {},
   "outputs": [],
   "source": [
    "s1 = pd.Series([5, np.nan, 10], index=[\"A\", \"B\", \"C\"])\n"
   ]
  },
  {
   "cell_type": "code",
   "execution_count": 48,
   "id": "50ec3172",
   "metadata": {},
   "outputs": [
    {
     "data": {
      "text/plain": [
       "A     5.0\n",
       "B     NaN\n",
       "C    10.0\n",
       "dtype: float64"
      ]
     },
     "execution_count": 48,
     "metadata": {},
     "output_type": "execute_result"
    }
   ],
   "source": [
    "s1\n"
   ]
  },
  {
   "cell_type": "code",
   "execution_count": 49,
   "id": "56a42dc2",
   "metadata": {},
   "outputs": [
    {
     "name": "stdout",
     "output_type": "stream",
     "text": [
      "A     8.0\n",
      "B     NaN\n",
      "C    13.0\n",
      "dtype: float64\n",
      "A    2.0\n",
      "B    NaN\n",
      "C    7.0\n",
      "dtype: float64\n",
      "A    20.0\n",
      "B     NaN\n",
      "C    40.0\n",
      "dtype: float64\n",
      "A    2.0\n",
      "B    NaN\n",
      "C    1.0\n",
      "dtype: float64\n",
      "A    0.0\n",
      "B    NaN\n",
      "C    1.0\n",
      "dtype: float64\n"
     ]
    }
   ],
   "source": [
    "print(s1+3)\n",
    "print(s1-3)\n",
    "print(s1*4)\n",
    "print(s1%3)\n",
    "print(s1//7)"
   ]
  },
  {
   "cell_type": "code",
   "execution_count": 52,
   "id": "9e2ecdd9",
   "metadata": {},
   "outputs": [
    {
     "data": {
      "text/plain": [
       "A    1.0\n",
       "B    NaN\n",
       "C    2.0\n",
       "dtype: float64"
      ]
     },
     "execution_count": 52,
     "metadata": {},
     "output_type": "execute_result"
    }
   ],
   "source": [
    "s1.add(3)\n",
    "s1.sub(5)\n",
    "s1.mul(4)\n",
    "s1.divide(7)\n",
    "s1.mod(4)"
   ]
  },
  {
   "cell_type": "markdown",
   "id": "f50d6ab3",
   "metadata": {},
   "source": [
    "### Broadcasting Series"
   ]
  },
  {
   "cell_type": "code",
   "execution_count": 53,
   "id": "8c485d24",
   "metadata": {},
   "outputs": [],
   "source": [
    "s1 = pd.Series([1, 2, 3], ['A', 'B', 'C'])\n",
    "s2 = pd.Series([4, 5, 5], ['A', 'B', 'C'])"
   ]
  },
  {
   "cell_type": "code",
   "execution_count": null,
   "id": "f3ec7d1d",
   "metadata": {},
   "outputs": [
    {
     "name": "stdout",
     "output_type": "stream",
     "text": [
      "A    5\n",
      "B    7\n",
      "C    8\n",
      "dtype: int64\n",
      "A    False\n",
      "B    False\n",
      "C    False\n",
      "dtype: bool\n",
      "A    False\n",
      "B    False\n",
      "C    False\n",
      "dtype: bool\n"
     ]
    }
   ],
   "source": [
    "print(s1 + s2)\n",
    "print(s1 == s2)\n",
    "print(s1.eq(s2))"
   ]
  }
 ],
 "metadata": {
  "kernelspec": {
   "display_name": "venv",
   "language": "python",
   "name": "python3"
  },
  "language_info": {
   "codemirror_mode": {
    "name": "ipython",
    "version": 3
   },
   "file_extension": ".py",
   "mimetype": "text/x-python",
   "name": "python",
   "nbconvert_exporter": "python",
   "pygments_lexer": "ipython3",
   "version": "3.9.13"
  }
 },
 "nbformat": 4,
 "nbformat_minor": 5
}
