{
 "cells": [
  {
   "cell_type": "markdown",
   "id": "3132ecad",
   "metadata": {},
   "source": []
  },
  {
   "cell_type": "code",
   "execution_count": 1,
   "id": "ac7196fc",
   "metadata": {},
   "outputs": [],
   "source": [
    "import numpy as np \n",
    "import pandas as pd "
   ]
  },
  {
   "cell_type": "code",
   "execution_count": 2,
   "id": "3414839b",
   "metadata": {},
   "outputs": [
    {
     "data": {
      "text/plain": [
       "Series([], dtype: object)"
      ]
     },
     "execution_count": 2,
     "metadata": {},
     "output_type": "execute_result"
    }
   ],
   "source": [
    "pd.Series()"
   ]
  },
  {
   "cell_type": "markdown",
   "id": "f3f6375c",
   "metadata": {},
   "source": [
    "### Creating A Series Object"
   ]
  },
  {
   "cell_type": "code",
   "execution_count": 3,
   "id": "a65e77c4",
   "metadata": {},
   "outputs": [
    {
     "data": {
      "text/plain": [
       "0    1\n",
       "1    2\n",
       "2    3\n",
       "3    4\n",
       "4    5\n",
       "5    6\n",
       "dtype: int64"
      ]
     },
     "execution_count": 3,
     "metadata": {},
     "output_type": "execute_result"
    }
   ],
   "source": [
    "pd.Series([1,2,3,4,5,6])"
   ]
  },
  {
   "cell_type": "code",
   "execution_count": 5,
   "id": "4e4d5be0",
   "metadata": {},
   "outputs": [
    {
     "data": {
      "text/plain": [
       "0    1\n",
       "1    2\n",
       "2    3\n",
       "3    4\n",
       "4    5\n",
       "5    6\n",
       "dtype: int64"
      ]
     },
     "execution_count": 5,
     "metadata": {},
     "output_type": "execute_result"
    }
   ],
   "source": [
    "pd.Series(data = [1,2,3,4,5,6])  # Both are same"
   ]
  },
  {
   "cell_type": "markdown",
   "id": "1f1288bf",
   "metadata": {},
   "source": [
    "### Creating a Series"
   ]
  },
  {
   "cell_type": "code",
   "execution_count": 19,
   "id": "0801b7ac",
   "metadata": {},
   "outputs": [
    {
     "data": {
      "text/plain": [
       "monday        chocolate\n",
       "wednesday       vanilla\n",
       "friday       strawberry\n",
       "saturday     rum raisin\n",
       "dtype: object"
      ]
     },
     "execution_count": 19,
     "metadata": {},
     "output_type": "execute_result"
    }
   ],
   "source": [
    "ice_cream = [\n",
    "\n",
    "    'chocolate' ,\n",
    "    'vanilla',\n",
    "    'strawberry' , \n",
    "    'rum raisin'\n",
    "]\n",
    "\n",
    "days = ['monday' , 'wednesday' , 'friday' , 'saturday']\n",
    "\n",
    "pd.Series(data = ice_cream , index = days)"
   ]
  },
  {
   "cell_type": "code",
   "execution_count": 16,
   "id": "4a9c6a6a",
   "metadata": {},
   "outputs": [
    {
     "data": {
      "text/plain": [
       "0      True\n",
       "1    False \n",
       "2      True\n",
       "dtype: object"
      ]
     },
     "execution_count": 16,
     "metadata": {},
     "output_type": "execute_result"
    }
   ],
   "source": [
    "bunch_of_bools = ['True' , 'False ', 'True']\n",
    "pd.Series(bunch_of_bools)"
   ]
  },
  {
   "cell_type": "code",
   "execution_count": 20,
   "id": "ea060767",
   "metadata": {},
   "outputs": [
    {
     "data": {
      "text/plain": [
       "open     123.45\n",
       "close    140.20\n",
       "dtype: float64"
      ]
     },
     "execution_count": 20,
     "metadata": {},
     "output_type": "execute_result"
    }
   ],
   "source": [
    "stock_price = [123.45 , 140.20]\n",
    "time_of_day = ['open' , 'close']\n",
    "pd.Series(data = stock_price , index = time_of_day)"
   ]
  },
  {
   "cell_type": "code",
   "execution_count": 21,
   "id": "4105c3b1",
   "metadata": {},
   "outputs": [
    {
     "data": {
      "text/plain": [
       "0     10\n",
       "1     20\n",
       "2     40\n",
       "3     56\n",
       "4     66\n",
       "5     78\n",
       "6      1\n",
       "7     22\n",
       "8      5\n",
       "9     33\n",
       "10     2\n",
       "11     4\n",
       "12     6\n",
       "dtype: int64"
      ]
     },
     "execution_count": 21,
     "metadata": {},
     "output_type": "execute_result"
    }
   ],
   "source": [
    "random_num = [10,20,40,56,66,78,1,22,5,33,2,4,6]\n",
    "pd.Series(random_num)"
   ]
  },
  {
   "cell_type": "code",
   "execution_count": 22,
   "id": "8059e5b7",
   "metadata": {},
   "outputs": [
    {
     "data": {
      "text/plain": [
       "0     10.0\n",
       "1     20.0\n",
       "2     40.0\n",
       "3     56.0\n",
       "4     66.0\n",
       "5     78.0\n",
       "6      1.0\n",
       "7     22.0\n",
       "8      5.0\n",
       "9     33.0\n",
       "10     2.0\n",
       "11     4.0\n",
       "12     6.0\n",
       "dtype: float64"
      ]
     },
     "execution_count": 22,
     "metadata": {},
     "output_type": "execute_result"
    }
   ],
   "source": [
    "random_num = [10,20,40,56,66,78,1,22,5,33,2,4,6]\n",
    "pd.Series(random_num , dtype = np.float64)"
   ]
  },
  {
   "cell_type": "markdown",
   "id": "b6a269eb",
   "metadata": {},
   "source": [
    "### Missing Values"
   ]
  },
  {
   "cell_type": "code",
   "execution_count": null,
   "id": "6ee618b6",
   "metadata": {},
   "outputs": [
    {
     "data": {
      "text/plain": [
       "0    30.5\n",
       "1    32.0\n",
       "2     NaN\n",
       "3    31.2\n",
       "dtype: float64"
      ]
     },
     "execution_count": 24,
     "metadata": {},
     "output_type": "execute_result"
    }
   ],
   "source": [
    "temperatures = [ 30.5 , 32.0 , np.nan , 31.2]    # np.nan = not a num ( missing value )\n",
    "pd.Series(temperatures)"
   ]
  },
  {
   "cell_type": "code",
   "execution_count": 29,
   "id": "a9a6b90e",
   "metadata": {},
   "outputs": [
    {
     "data": {
      "text/plain": [
       "biriyani    1000\n",
       "pizza        800\n",
       "burger       500\n",
       "pasta        600\n",
       "dtype: int64"
      ]
     },
     "execution_count": 29,
     "metadata": {},
     "output_type": "execute_result"
    }
   ],
   "source": [
    "calories = { \n",
    "              'biriyani' : 1000 , \n",
    "              'pizza' : 800, \n",
    "              'burger' : 500, \n",
    "              'pasta' : 600,\n",
    "            }\n",
    "diet = pd.Series(calories)\n",
    "diet"
   ]
  },
  {
   "cell_type": "code",
   "execution_count": 30,
   "id": "6da8b9c8",
   "metadata": {},
   "outputs": [
    {
     "data": {
      "text/plain": [
       "array([1000,  800,  500,  600])"
      ]
     },
     "execution_count": 30,
     "metadata": {},
     "output_type": "execute_result"
    }
   ],
   "source": [
    "diet.values"
   ]
  },
  {
   "cell_type": "code",
   "execution_count": 34,
   "id": "fe0f9440",
   "metadata": {},
   "outputs": [
    {
     "data": {
      "text/plain": [
       "Index(['biriyani', 'pizza', 'burger', 'pasta'], dtype='object')"
      ]
     },
     "execution_count": 34,
     "metadata": {},
     "output_type": "execute_result"
    }
   ],
   "source": [
    "diet.index"
   ]
  },
  {
   "cell_type": "code",
   "execution_count": 35,
   "id": "0099035b",
   "metadata": {},
   "outputs": [
    {
     "data": {
      "text/plain": [
       "4"
      ]
     },
     "execution_count": 35,
     "metadata": {},
     "output_type": "execute_result"
    }
   ],
   "source": [
    "diet.size"
   ]
  },
  {
   "cell_type": "code",
   "execution_count": 36,
   "id": "9511405a",
   "metadata": {},
   "outputs": [
    {
     "data": {
      "text/plain": [
       "(4,)"
      ]
     },
     "execution_count": 36,
     "metadata": {},
     "output_type": "execute_result"
    }
   ],
   "source": [
    "diet.shape"
   ]
  },
  {
   "cell_type": "code",
   "execution_count": 37,
   "id": "c30e9e98",
   "metadata": {},
   "outputs": [
    {
     "data": {
      "text/plain": [
       "dtype('int64')"
      ]
     },
     "execution_count": 37,
     "metadata": {},
     "output_type": "execute_result"
    }
   ],
   "source": [
    "diet.dtype"
   ]
  },
  {
   "cell_type": "code",
   "execution_count": null,
   "id": "48455df2",
   "metadata": {},
   "outputs": [
    {
     "data": {
      "text/plain": [
       "True"
      ]
     },
     "execution_count": 38,
     "metadata": {},
     "output_type": "execute_result"
    }
   ],
   "source": [
    "diet.is_unique   # NO Duplicate Values"
   ]
  },
  {
   "cell_type": "code",
   "execution_count": null,
   "id": "f22defe4",
   "metadata": {},
   "outputs": [],
   "source": []
  }
 ],
 "metadata": {
  "kernelspec": {
   "display_name": "venv",
   "language": "python",
   "name": "python3"
  },
  "language_info": {
   "codemirror_mode": {
    "name": "ipython",
    "version": 3
   },
   "file_extension": ".py",
   "mimetype": "text/x-python",
   "name": "python",
   "nbconvert_exporter": "python",
   "pygments_lexer": "ipython3",
   "version": "3.9.13"
  }
 },
 "nbformat": 4,
 "nbformat_minor": 5
}
