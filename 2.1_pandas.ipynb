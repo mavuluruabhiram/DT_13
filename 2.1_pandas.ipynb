{
 "cells": [
  {
   "cell_type": "code",
   "execution_count": 2,
   "id": "76f483c4",
   "metadata": {},
   "outputs": [
    {
     "name": "stdout",
     "output_type": "stream",
     "text": [
      "2.3.1\n"
     ]
    }
   ],
   "source": [
    "import pandas as pd\n",
    "\n",
    "print(pd.__version__)\n",
    "\n"
   ]
  },
  {
   "cell_type": "markdown",
   "id": "e4a73ea5",
   "metadata": {},
   "source": [
    "### Reading Datasets - Creating DataFrame"
   ]
  },
  {
   "cell_type": "code",
   "execution_count": 3,
   "id": "d0844452",
   "metadata": {},
   "outputs": [
    {
     "data": {
      "text/html": [
       "<div>\n",
       "<style scoped>\n",
       "    .dataframe tbody tr th:only-of-type {\n",
       "        vertical-align: middle;\n",
       "    }\n",
       "\n",
       "    .dataframe tbody tr th {\n",
       "        vertical-align: top;\n",
       "    }\n",
       "\n",
       "    .dataframe thead th {\n",
       "        text-align: right;\n",
       "    }\n",
       "</style>\n",
       "<table border=\"1\" class=\"dataframe\">\n",
       "  <thead>\n",
       "    <tr style=\"text-align: right;\">\n",
       "      <th></th>\n",
       "      <th>Rank</th>\n",
       "      <th>Title</th>\n",
       "      <th>Studio</th>\n",
       "      <th>Gross</th>\n",
       "      <th>Year</th>\n",
       "    </tr>\n",
       "  </thead>\n",
       "  <tbody>\n",
       "    <tr>\n",
       "      <th>0</th>\n",
       "      <td>1</td>\n",
       "      <td>Avengers: Endgame</td>\n",
       "      <td>Buena Vista</td>\n",
       "      <td>$2,796.30</td>\n",
       "      <td>2019</td>\n",
       "    </tr>\n",
       "    <tr>\n",
       "      <th>1</th>\n",
       "      <td>2</td>\n",
       "      <td>Avatar</td>\n",
       "      <td>Fox</td>\n",
       "      <td>$2,789.70</td>\n",
       "      <td>2009</td>\n",
       "    </tr>\n",
       "    <tr>\n",
       "      <th>2</th>\n",
       "      <td>3</td>\n",
       "      <td>Titanic</td>\n",
       "      <td>Paramount</td>\n",
       "      <td>$2,187.50</td>\n",
       "      <td>1997</td>\n",
       "    </tr>\n",
       "    <tr>\n",
       "      <th>3</th>\n",
       "      <td>4</td>\n",
       "      <td>Star Wars: The Force Awakens</td>\n",
       "      <td>Buena Vista</td>\n",
       "      <td>$2,068.20</td>\n",
       "      <td>2015</td>\n",
       "    </tr>\n",
       "    <tr>\n",
       "      <th>4</th>\n",
       "      <td>5</td>\n",
       "      <td>Avengers: Infinity War</td>\n",
       "      <td>Buena Vista</td>\n",
       "      <td>$2,048.40</td>\n",
       "      <td>2018</td>\n",
       "    </tr>\n",
       "    <tr>\n",
       "      <th>...</th>\n",
       "      <td>...</td>\n",
       "      <td>...</td>\n",
       "      <td>...</td>\n",
       "      <td>...</td>\n",
       "      <td>...</td>\n",
       "    </tr>\n",
       "    <tr>\n",
       "      <th>777</th>\n",
       "      <td>778</td>\n",
       "      <td>Yogi Bear</td>\n",
       "      <td>Warner Brothers</td>\n",
       "      <td>$201.60</td>\n",
       "      <td>2010</td>\n",
       "    </tr>\n",
       "    <tr>\n",
       "      <th>778</th>\n",
       "      <td>779</td>\n",
       "      <td>Garfield: The Movie</td>\n",
       "      <td>Fox</td>\n",
       "      <td>$200.80</td>\n",
       "      <td>2004</td>\n",
       "    </tr>\n",
       "    <tr>\n",
       "      <th>779</th>\n",
       "      <td>780</td>\n",
       "      <td>Cats &amp; Dogs</td>\n",
       "      <td>Warner Brothers</td>\n",
       "      <td>$200.70</td>\n",
       "      <td>2001</td>\n",
       "    </tr>\n",
       "    <tr>\n",
       "      <th>780</th>\n",
       "      <td>781</td>\n",
       "      <td>The Hunt for Red October</td>\n",
       "      <td>Paramount</td>\n",
       "      <td>$200.50</td>\n",
       "      <td>1990</td>\n",
       "    </tr>\n",
       "    <tr>\n",
       "      <th>781</th>\n",
       "      <td>782</td>\n",
       "      <td>Valkyrie</td>\n",
       "      <td>MGM</td>\n",
       "      <td>$200.30</td>\n",
       "      <td>2008</td>\n",
       "    </tr>\n",
       "  </tbody>\n",
       "</table>\n",
       "<p>782 rows × 5 columns</p>\n",
       "</div>"
      ],
      "text/plain": [
       "     Rank                         Title           Studio       Gross  Year\n",
       "0       1             Avengers: Endgame      Buena Vista  $2,796.30   2019\n",
       "1       2                        Avatar              Fox  $2,789.70   2009\n",
       "2       3                       Titanic        Paramount  $2,187.50   1997\n",
       "3       4  Star Wars: The Force Awakens      Buena Vista  $2,068.20   2015\n",
       "4       5        Avengers: Infinity War      Buena Vista  $2,048.40   2018\n",
       "..    ...                           ...              ...         ...   ...\n",
       "777   778                     Yogi Bear  Warner Brothers    $201.60   2010\n",
       "778   779           Garfield: The Movie              Fox    $200.80   2004\n",
       "779   780                   Cats & Dogs  Warner Brothers    $200.70   2001\n",
       "780   781      The Hunt for Red October        Paramount    $200.50   1990\n",
       "781   782                      Valkyrie              MGM    $200.30   2008\n",
       "\n",
       "[782 rows x 5 columns]"
      ]
     },
     "execution_count": 3,
     "metadata": {},
     "output_type": "execute_result"
    }
   ],
   "source": [
    "import pandas as pd\n",
    "\n",
    "pd.read_csv(\"movies.csv\")\n"
   ]
  },
  {
   "cell_type": "markdown",
   "id": "de0e5b1c",
   "metadata": {},
   "source": [
    "#### Creating DataFrame"
   ]
  },
  {
   "cell_type": "code",
   "execution_count": 4,
   "id": "b3ed148c",
   "metadata": {},
   "outputs": [
    {
     "data": {
      "text/html": [
       "<div>\n",
       "<style scoped>\n",
       "    .dataframe tbody tr th:only-of-type {\n",
       "        vertical-align: middle;\n",
       "    }\n",
       "\n",
       "    .dataframe tbody tr th {\n",
       "        vertical-align: top;\n",
       "    }\n",
       "\n",
       "    .dataframe thead th {\n",
       "        text-align: right;\n",
       "    }\n",
       "</style>\n",
       "<table border=\"1\" class=\"dataframe\">\n",
       "  <thead>\n",
       "    <tr style=\"text-align: right;\">\n",
       "      <th></th>\n",
       "      <th>Rank</th>\n",
       "      <th>Studio</th>\n",
       "      <th>Gross</th>\n",
       "      <th>Year</th>\n",
       "    </tr>\n",
       "    <tr>\n",
       "      <th>Title</th>\n",
       "      <th></th>\n",
       "      <th></th>\n",
       "      <th></th>\n",
       "      <th></th>\n",
       "    </tr>\n",
       "  </thead>\n",
       "  <tbody>\n",
       "    <tr>\n",
       "      <th>Avengers: Endgame</th>\n",
       "      <td>1</td>\n",
       "      <td>Buena Vista</td>\n",
       "      <td>$2,796.30</td>\n",
       "      <td>2019</td>\n",
       "    </tr>\n",
       "    <tr>\n",
       "      <th>Avatar</th>\n",
       "      <td>2</td>\n",
       "      <td>Fox</td>\n",
       "      <td>$2,789.70</td>\n",
       "      <td>2009</td>\n",
       "    </tr>\n",
       "    <tr>\n",
       "      <th>Titanic</th>\n",
       "      <td>3</td>\n",
       "      <td>Paramount</td>\n",
       "      <td>$2,187.50</td>\n",
       "      <td>1997</td>\n",
       "    </tr>\n",
       "    <tr>\n",
       "      <th>Star Wars: The Force Awakens</th>\n",
       "      <td>4</td>\n",
       "      <td>Buena Vista</td>\n",
       "      <td>$2,068.20</td>\n",
       "      <td>2015</td>\n",
       "    </tr>\n",
       "    <tr>\n",
       "      <th>Avengers: Infinity War</th>\n",
       "      <td>5</td>\n",
       "      <td>Buena Vista</td>\n",
       "      <td>$2,048.40</td>\n",
       "      <td>2018</td>\n",
       "    </tr>\n",
       "    <tr>\n",
       "      <th>...</th>\n",
       "      <td>...</td>\n",
       "      <td>...</td>\n",
       "      <td>...</td>\n",
       "      <td>...</td>\n",
       "    </tr>\n",
       "    <tr>\n",
       "      <th>Yogi Bear</th>\n",
       "      <td>778</td>\n",
       "      <td>Warner Brothers</td>\n",
       "      <td>$201.60</td>\n",
       "      <td>2010</td>\n",
       "    </tr>\n",
       "    <tr>\n",
       "      <th>Garfield: The Movie</th>\n",
       "      <td>779</td>\n",
       "      <td>Fox</td>\n",
       "      <td>$200.80</td>\n",
       "      <td>2004</td>\n",
       "    </tr>\n",
       "    <tr>\n",
       "      <th>Cats &amp; Dogs</th>\n",
       "      <td>780</td>\n",
       "      <td>Warner Brothers</td>\n",
       "      <td>$200.70</td>\n",
       "      <td>2001</td>\n",
       "    </tr>\n",
       "    <tr>\n",
       "      <th>The Hunt for Red October</th>\n",
       "      <td>781</td>\n",
       "      <td>Paramount</td>\n",
       "      <td>$200.50</td>\n",
       "      <td>1990</td>\n",
       "    </tr>\n",
       "    <tr>\n",
       "      <th>Valkyrie</th>\n",
       "      <td>782</td>\n",
       "      <td>MGM</td>\n",
       "      <td>$200.30</td>\n",
       "      <td>2008</td>\n",
       "    </tr>\n",
       "  </tbody>\n",
       "</table>\n",
       "<p>782 rows × 4 columns</p>\n",
       "</div>"
      ],
      "text/plain": [
       "                              Rank           Studio       Gross  Year\n",
       "Title                                                                \n",
       "Avengers: Endgame                1      Buena Vista  $2,796.30   2019\n",
       "Avatar                           2              Fox  $2,789.70   2009\n",
       "Titanic                          3        Paramount  $2,187.50   1997\n",
       "Star Wars: The Force Awakens     4      Buena Vista  $2,068.20   2015\n",
       "Avengers: Infinity War           5      Buena Vista  $2,048.40   2018\n",
       "...                            ...              ...         ...   ...\n",
       "Yogi Bear                      778  Warner Brothers    $201.60   2010\n",
       "Garfield: The Movie            779              Fox    $200.80   2004\n",
       "Cats & Dogs                    780  Warner Brothers    $200.70   2001\n",
       "The Hunt for Red October       781        Paramount    $200.50   1990\n",
       "Valkyrie                       782              MGM    $200.30   2008\n",
       "\n",
       "[782 rows x 4 columns]"
      ]
     },
     "execution_count": 4,
     "metadata": {},
     "output_type": "execute_result"
    }
   ],
   "source": [
    "movies = pd.read_csv('movies.csv' , index_col = 'Title')\n",
    "\n",
    "# movies = movies.set_index(\"Title\")     SAME\n",
    "\n",
    "\n",
    "movies\n"
   ]
  },
  {
   "cell_type": "markdown",
   "id": "576c9192",
   "metadata": {},
   "source": [
    "### Class"
   ]
  },
  {
   "cell_type": "code",
   "execution_count": 5,
   "id": "605bb9c9",
   "metadata": {},
   "outputs": [
    {
     "name": "stdout",
     "output_type": "stream",
     "text": [
      "<class 'pandas.core.frame.DataFrame'>\n"
     ]
    }
   ],
   "source": [
    "#CLASS\n",
    "\n",
    "a = pd.read_csv(\"movies.csv\")\n",
    "print(type(a))"
   ]
  },
  {
   "cell_type": "markdown",
   "id": "1ddf42f0",
   "metadata": {},
   "source": [
    "#### Making TITLE as a Index Column"
   ]
  },
  {
   "cell_type": "code",
   "execution_count": 6,
   "id": "46eb9c78",
   "metadata": {},
   "outputs": [
    {
     "data": {
      "text/html": [
       "<div>\n",
       "<style scoped>\n",
       "    .dataframe tbody tr th:only-of-type {\n",
       "        vertical-align: middle;\n",
       "    }\n",
       "\n",
       "    .dataframe tbody tr th {\n",
       "        vertical-align: top;\n",
       "    }\n",
       "\n",
       "    .dataframe thead th {\n",
       "        text-align: right;\n",
       "    }\n",
       "</style>\n",
       "<table border=\"1\" class=\"dataframe\">\n",
       "  <thead>\n",
       "    <tr style=\"text-align: right;\">\n",
       "      <th></th>\n",
       "      <th>Rank</th>\n",
       "      <th>Studio</th>\n",
       "      <th>Gross</th>\n",
       "      <th>Year</th>\n",
       "    </tr>\n",
       "    <tr>\n",
       "      <th>Title</th>\n",
       "      <th></th>\n",
       "      <th></th>\n",
       "      <th></th>\n",
       "      <th></th>\n",
       "    </tr>\n",
       "  </thead>\n",
       "  <tbody>\n",
       "    <tr>\n",
       "      <th>Avengers: Endgame</th>\n",
       "      <td>1</td>\n",
       "      <td>Buena Vista</td>\n",
       "      <td>$2,796.30</td>\n",
       "      <td>2019</td>\n",
       "    </tr>\n",
       "    <tr>\n",
       "      <th>Avatar</th>\n",
       "      <td>2</td>\n",
       "      <td>Fox</td>\n",
       "      <td>$2,789.70</td>\n",
       "      <td>2009</td>\n",
       "    </tr>\n",
       "    <tr>\n",
       "      <th>Titanic</th>\n",
       "      <td>3</td>\n",
       "      <td>Paramount</td>\n",
       "      <td>$2,187.50</td>\n",
       "      <td>1997</td>\n",
       "    </tr>\n",
       "    <tr>\n",
       "      <th>Star Wars: The Force Awakens</th>\n",
       "      <td>4</td>\n",
       "      <td>Buena Vista</td>\n",
       "      <td>$2,068.20</td>\n",
       "      <td>2015</td>\n",
       "    </tr>\n",
       "    <tr>\n",
       "      <th>Avengers: Infinity War</th>\n",
       "      <td>5</td>\n",
       "      <td>Buena Vista</td>\n",
       "      <td>$2,048.40</td>\n",
       "      <td>2018</td>\n",
       "    </tr>\n",
       "    <tr>\n",
       "      <th>...</th>\n",
       "      <td>...</td>\n",
       "      <td>...</td>\n",
       "      <td>...</td>\n",
       "      <td>...</td>\n",
       "    </tr>\n",
       "    <tr>\n",
       "      <th>Yogi Bear</th>\n",
       "      <td>778</td>\n",
       "      <td>Warner Brothers</td>\n",
       "      <td>$201.60</td>\n",
       "      <td>2010</td>\n",
       "    </tr>\n",
       "    <tr>\n",
       "      <th>Garfield: The Movie</th>\n",
       "      <td>779</td>\n",
       "      <td>Fox</td>\n",
       "      <td>$200.80</td>\n",
       "      <td>2004</td>\n",
       "    </tr>\n",
       "    <tr>\n",
       "      <th>Cats &amp; Dogs</th>\n",
       "      <td>780</td>\n",
       "      <td>Warner Brothers</td>\n",
       "      <td>$200.70</td>\n",
       "      <td>2001</td>\n",
       "    </tr>\n",
       "    <tr>\n",
       "      <th>The Hunt for Red October</th>\n",
       "      <td>781</td>\n",
       "      <td>Paramount</td>\n",
       "      <td>$200.50</td>\n",
       "      <td>1990</td>\n",
       "    </tr>\n",
       "    <tr>\n",
       "      <th>Valkyrie</th>\n",
       "      <td>782</td>\n",
       "      <td>MGM</td>\n",
       "      <td>$200.30</td>\n",
       "      <td>2008</td>\n",
       "    </tr>\n",
       "  </tbody>\n",
       "</table>\n",
       "<p>782 rows × 4 columns</p>\n",
       "</div>"
      ],
      "text/plain": [
       "                              Rank           Studio       Gross  Year\n",
       "Title                                                                \n",
       "Avengers: Endgame                1      Buena Vista  $2,796.30   2019\n",
       "Avatar                           2              Fox  $2,789.70   2009\n",
       "Titanic                          3        Paramount  $2,187.50   1997\n",
       "Star Wars: The Force Awakens     4      Buena Vista  $2,068.20   2015\n",
       "Avengers: Infinity War           5      Buena Vista  $2,048.40   2018\n",
       "...                            ...              ...         ...   ...\n",
       "Yogi Bear                      778  Warner Brothers    $201.60   2010\n",
       "Garfield: The Movie            779              Fox    $200.80   2004\n",
       "Cats & Dogs                    780  Warner Brothers    $200.70   2001\n",
       "The Hunt for Red October       781        Paramount    $200.50   1990\n",
       "Valkyrie                       782              MGM    $200.30   2008\n",
       "\n",
       "[782 rows x 4 columns]"
      ]
     },
     "execution_count": 6,
     "metadata": {},
     "output_type": "execute_result"
    }
   ],
   "source": [
    "\n",
    "movies"
   ]
  },
  {
   "cell_type": "markdown",
   "id": "a860475c",
   "metadata": {},
   "source": [
    "- df.head()\n",
    "- df.tail()\n",
    "- df.describe()\n",
    "- df.shape\n",
    "- df[start : stop : step ]\n",
    "- df[ ' column name ' ]\n",
    "- df[ ' column name1 , col2 ,.... ' ]\n",
    "- df[ ' column name1 , col2 ,.... ' ] [start : stop : step ]\n",
    "- df.iterrows()\n",
    "- loc & iloc"
   ]
  },
  {
   "cell_type": "code",
   "execution_count": 7,
   "id": "5724dc7d",
   "metadata": {},
   "outputs": [
    {
     "data": {
      "text/html": [
       "<div>\n",
       "<style scoped>\n",
       "    .dataframe tbody tr th:only-of-type {\n",
       "        vertical-align: middle;\n",
       "    }\n",
       "\n",
       "    .dataframe tbody tr th {\n",
       "        vertical-align: top;\n",
       "    }\n",
       "\n",
       "    .dataframe thead th {\n",
       "        text-align: right;\n",
       "    }\n",
       "</style>\n",
       "<table border=\"1\" class=\"dataframe\">\n",
       "  <thead>\n",
       "    <tr style=\"text-align: right;\">\n",
       "      <th></th>\n",
       "      <th>Rank</th>\n",
       "      <th>Studio</th>\n",
       "      <th>Gross</th>\n",
       "      <th>Year</th>\n",
       "    </tr>\n",
       "    <tr>\n",
       "      <th>Title</th>\n",
       "      <th></th>\n",
       "      <th></th>\n",
       "      <th></th>\n",
       "      <th></th>\n",
       "    </tr>\n",
       "  </thead>\n",
       "  <tbody>\n",
       "    <tr>\n",
       "      <th>Avengers: Endgame</th>\n",
       "      <td>1</td>\n",
       "      <td>Buena Vista</td>\n",
       "      <td>$2,796.30</td>\n",
       "      <td>2019</td>\n",
       "    </tr>\n",
       "    <tr>\n",
       "      <th>Avatar</th>\n",
       "      <td>2</td>\n",
       "      <td>Fox</td>\n",
       "      <td>$2,789.70</td>\n",
       "      <td>2009</td>\n",
       "    </tr>\n",
       "    <tr>\n",
       "      <th>Titanic</th>\n",
       "      <td>3</td>\n",
       "      <td>Paramount</td>\n",
       "      <td>$2,187.50</td>\n",
       "      <td>1997</td>\n",
       "    </tr>\n",
       "    <tr>\n",
       "      <th>Star Wars: The Force Awakens</th>\n",
       "      <td>4</td>\n",
       "      <td>Buena Vista</td>\n",
       "      <td>$2,068.20</td>\n",
       "      <td>2015</td>\n",
       "    </tr>\n",
       "    <tr>\n",
       "      <th>Avengers: Infinity War</th>\n",
       "      <td>5</td>\n",
       "      <td>Buena Vista</td>\n",
       "      <td>$2,048.40</td>\n",
       "      <td>2018</td>\n",
       "    </tr>\n",
       "  </tbody>\n",
       "</table>\n",
       "</div>"
      ],
      "text/plain": [
       "                              Rank       Studio       Gross  Year\n",
       "Title                                                            \n",
       "Avengers: Endgame                1  Buena Vista  $2,796.30   2019\n",
       "Avatar                           2          Fox  $2,789.70   2009\n",
       "Titanic                          3    Paramount  $2,187.50   1997\n",
       "Star Wars: The Force Awakens     4  Buena Vista  $2,068.20   2015\n",
       "Avengers: Infinity War           5  Buena Vista  $2,048.40   2018"
      ]
     },
     "execution_count": 7,
     "metadata": {},
     "output_type": "execute_result"
    }
   ],
   "source": [
    "movies.head()"
   ]
  },
  {
   "cell_type": "code",
   "execution_count": 8,
   "id": "0d573476",
   "metadata": {},
   "outputs": [
    {
     "data": {
      "text/html": [
       "<div>\n",
       "<style scoped>\n",
       "    .dataframe tbody tr th:only-of-type {\n",
       "        vertical-align: middle;\n",
       "    }\n",
       "\n",
       "    .dataframe tbody tr th {\n",
       "        vertical-align: top;\n",
       "    }\n",
       "\n",
       "    .dataframe thead th {\n",
       "        text-align: right;\n",
       "    }\n",
       "</style>\n",
       "<table border=\"1\" class=\"dataframe\">\n",
       "  <thead>\n",
       "    <tr style=\"text-align: right;\">\n",
       "      <th></th>\n",
       "      <th>Rank</th>\n",
       "      <th>Studio</th>\n",
       "      <th>Gross</th>\n",
       "      <th>Year</th>\n",
       "    </tr>\n",
       "    <tr>\n",
       "      <th>Title</th>\n",
       "      <th></th>\n",
       "      <th></th>\n",
       "      <th></th>\n",
       "      <th></th>\n",
       "    </tr>\n",
       "  </thead>\n",
       "  <tbody>\n",
       "    <tr>\n",
       "      <th>Avengers: Endgame</th>\n",
       "      <td>1</td>\n",
       "      <td>Buena Vista</td>\n",
       "      <td>$2,796.30</td>\n",
       "      <td>2019</td>\n",
       "    </tr>\n",
       "    <tr>\n",
       "      <th>Avatar</th>\n",
       "      <td>2</td>\n",
       "      <td>Fox</td>\n",
       "      <td>$2,789.70</td>\n",
       "      <td>2009</td>\n",
       "    </tr>\n",
       "    <tr>\n",
       "      <th>Titanic</th>\n",
       "      <td>3</td>\n",
       "      <td>Paramount</td>\n",
       "      <td>$2,187.50</td>\n",
       "      <td>1997</td>\n",
       "    </tr>\n",
       "    <tr>\n",
       "      <th>Star Wars: The Force Awakens</th>\n",
       "      <td>4</td>\n",
       "      <td>Buena Vista</td>\n",
       "      <td>$2,068.20</td>\n",
       "      <td>2015</td>\n",
       "    </tr>\n",
       "    <tr>\n",
       "      <th>Avengers: Infinity War</th>\n",
       "      <td>5</td>\n",
       "      <td>Buena Vista</td>\n",
       "      <td>$2,048.40</td>\n",
       "      <td>2018</td>\n",
       "    </tr>\n",
       "    <tr>\n",
       "      <th>Jurassic World</th>\n",
       "      <td>6</td>\n",
       "      <td>Universal</td>\n",
       "      <td>$1,671.70</td>\n",
       "      <td>2015</td>\n",
       "    </tr>\n",
       "    <tr>\n",
       "      <th>Marvel's The Avengers</th>\n",
       "      <td>7</td>\n",
       "      <td>Buena Vista</td>\n",
       "      <td>$1,518.80</td>\n",
       "      <td>2012</td>\n",
       "    </tr>\n",
       "    <tr>\n",
       "      <th>Furious 7</th>\n",
       "      <td>8</td>\n",
       "      <td>Universal</td>\n",
       "      <td>$1,516.00</td>\n",
       "      <td>2015</td>\n",
       "    </tr>\n",
       "    <tr>\n",
       "      <th>Avengers: Age of Ultron</th>\n",
       "      <td>9</td>\n",
       "      <td>Buena Vista</td>\n",
       "      <td>$1,405.40</td>\n",
       "      <td>2015</td>\n",
       "    </tr>\n",
       "    <tr>\n",
       "      <th>Black Panther</th>\n",
       "      <td>10</td>\n",
       "      <td>Buena Vista</td>\n",
       "      <td>$1,346.90</td>\n",
       "      <td>2018</td>\n",
       "    </tr>\n",
       "  </tbody>\n",
       "</table>\n",
       "</div>"
      ],
      "text/plain": [
       "                              Rank       Studio       Gross  Year\n",
       "Title                                                            \n",
       "Avengers: Endgame                1  Buena Vista  $2,796.30   2019\n",
       "Avatar                           2          Fox  $2,789.70   2009\n",
       "Titanic                          3    Paramount  $2,187.50   1997\n",
       "Star Wars: The Force Awakens     4  Buena Vista  $2,068.20   2015\n",
       "Avengers: Infinity War           5  Buena Vista  $2,048.40   2018\n",
       "Jurassic World                   6    Universal  $1,671.70   2015\n",
       "Marvel's The Avengers            7  Buena Vista  $1,518.80   2012\n",
       "Furious 7                        8    Universal  $1,516.00   2015\n",
       "Avengers: Age of Ultron          9  Buena Vista  $1,405.40   2015\n",
       "Black Panther                   10  Buena Vista  $1,346.90   2018"
      ]
     },
     "execution_count": 8,
     "metadata": {},
     "output_type": "execute_result"
    }
   ],
   "source": [
    "movies.head(10)"
   ]
  },
  {
   "cell_type": "code",
   "execution_count": 9,
   "id": "a9d232e5",
   "metadata": {},
   "outputs": [
    {
     "data": {
      "text/html": [
       "<div>\n",
       "<style scoped>\n",
       "    .dataframe tbody tr th:only-of-type {\n",
       "        vertical-align: middle;\n",
       "    }\n",
       "\n",
       "    .dataframe tbody tr th {\n",
       "        vertical-align: top;\n",
       "    }\n",
       "\n",
       "    .dataframe thead th {\n",
       "        text-align: right;\n",
       "    }\n",
       "</style>\n",
       "<table border=\"1\" class=\"dataframe\">\n",
       "  <thead>\n",
       "    <tr style=\"text-align: right;\">\n",
       "      <th></th>\n",
       "      <th>Rank</th>\n",
       "      <th>Studio</th>\n",
       "      <th>Gross</th>\n",
       "      <th>Year</th>\n",
       "    </tr>\n",
       "    <tr>\n",
       "      <th>Title</th>\n",
       "      <th></th>\n",
       "      <th></th>\n",
       "      <th></th>\n",
       "      <th></th>\n",
       "    </tr>\n",
       "  </thead>\n",
       "  <tbody>\n",
       "    <tr>\n",
       "      <th>Arrival</th>\n",
       "      <td>768</td>\n",
       "      <td>Paramount</td>\n",
       "      <td>$203.40</td>\n",
       "      <td>2016</td>\n",
       "    </tr>\n",
       "    <tr>\n",
       "      <th>Need for Speed</th>\n",
       "      <td>769</td>\n",
       "      <td>Buena Vista</td>\n",
       "      <td>$203.30</td>\n",
       "      <td>2014</td>\n",
       "    </tr>\n",
       "    <tr>\n",
       "      <th>Hairspray</th>\n",
       "      <td>770</td>\n",
       "      <td>New Line</td>\n",
       "      <td>$202.50</td>\n",
       "      <td>2007</td>\n",
       "    </tr>\n",
       "    <tr>\n",
       "      <th>Ponyo</th>\n",
       "      <td>771</td>\n",
       "      <td>Buena Vista</td>\n",
       "      <td>$202.40</td>\n",
       "      <td>2009</td>\n",
       "    </tr>\n",
       "    <tr>\n",
       "      <th>Patch Adams</th>\n",
       "      <td>772</td>\n",
       "      <td>Universal</td>\n",
       "      <td>$202.30</td>\n",
       "      <td>1998</td>\n",
       "    </tr>\n",
       "    <tr>\n",
       "      <th>Fun with Dick and Jane</th>\n",
       "      <td>773</td>\n",
       "      <td>Sony</td>\n",
       "      <td>$202.00</td>\n",
       "      <td>2005</td>\n",
       "    </tr>\n",
       "    <tr>\n",
       "      <th>Teenage Mutant Ninja Turtles</th>\n",
       "      <td>774</td>\n",
       "      <td>New Line</td>\n",
       "      <td>$202.00</td>\n",
       "      <td>1990</td>\n",
       "    </tr>\n",
       "    <tr>\n",
       "      <th>Kindergarten Cop</th>\n",
       "      <td>775</td>\n",
       "      <td>Universal</td>\n",
       "      <td>$202.00</td>\n",
       "      <td>1990</td>\n",
       "    </tr>\n",
       "    <tr>\n",
       "      <th>Straight Outta Compton</th>\n",
       "      <td>776</td>\n",
       "      <td>Universal</td>\n",
       "      <td>$201.60</td>\n",
       "      <td>2015</td>\n",
       "    </tr>\n",
       "    <tr>\n",
       "      <th>21 Jump Street</th>\n",
       "      <td>777</td>\n",
       "      <td>Sony</td>\n",
       "      <td>$201.60</td>\n",
       "      <td>2012</td>\n",
       "    </tr>\n",
       "    <tr>\n",
       "      <th>Yogi Bear</th>\n",
       "      <td>778</td>\n",
       "      <td>Warner Brothers</td>\n",
       "      <td>$201.60</td>\n",
       "      <td>2010</td>\n",
       "    </tr>\n",
       "    <tr>\n",
       "      <th>Garfield: The Movie</th>\n",
       "      <td>779</td>\n",
       "      <td>Fox</td>\n",
       "      <td>$200.80</td>\n",
       "      <td>2004</td>\n",
       "    </tr>\n",
       "    <tr>\n",
       "      <th>Cats &amp; Dogs</th>\n",
       "      <td>780</td>\n",
       "      <td>Warner Brothers</td>\n",
       "      <td>$200.70</td>\n",
       "      <td>2001</td>\n",
       "    </tr>\n",
       "    <tr>\n",
       "      <th>The Hunt for Red October</th>\n",
       "      <td>781</td>\n",
       "      <td>Paramount</td>\n",
       "      <td>$200.50</td>\n",
       "      <td>1990</td>\n",
       "    </tr>\n",
       "    <tr>\n",
       "      <th>Valkyrie</th>\n",
       "      <td>782</td>\n",
       "      <td>MGM</td>\n",
       "      <td>$200.30</td>\n",
       "      <td>2008</td>\n",
       "    </tr>\n",
       "  </tbody>\n",
       "</table>\n",
       "</div>"
      ],
      "text/plain": [
       "                              Rank           Studio     Gross  Year\n",
       "Title                                                              \n",
       "Arrival                        768        Paramount  $203.40   2016\n",
       "Need for Speed                 769      Buena Vista  $203.30   2014\n",
       "Hairspray                      770         New Line  $202.50   2007\n",
       "Ponyo                          771      Buena Vista  $202.40   2009\n",
       "Patch Adams                    772        Universal  $202.30   1998\n",
       "Fun with Dick and Jane         773             Sony  $202.00   2005\n",
       "Teenage Mutant Ninja Turtles   774         New Line  $202.00   1990\n",
       "Kindergarten Cop               775        Universal  $202.00   1990\n",
       "Straight Outta Compton         776        Universal  $201.60   2015\n",
       "21 Jump Street                 777             Sony  $201.60   2012\n",
       "Yogi Bear                      778  Warner Brothers  $201.60   2010\n",
       "Garfield: The Movie            779              Fox  $200.80   2004\n",
       "Cats & Dogs                    780  Warner Brothers  $200.70   2001\n",
       "The Hunt for Red October       781        Paramount  $200.50   1990\n",
       "Valkyrie                       782              MGM  $200.30   2008"
      ]
     },
     "execution_count": 9,
     "metadata": {},
     "output_type": "execute_result"
    }
   ],
   "source": [
    "movies.tail(15)"
   ]
  },
  {
   "cell_type": "code",
   "execution_count": 10,
   "id": "d83f8b1e",
   "metadata": {},
   "outputs": [
    {
     "data": {
      "text/html": [
       "<div>\n",
       "<style scoped>\n",
       "    .dataframe tbody tr th:only-of-type {\n",
       "        vertical-align: middle;\n",
       "    }\n",
       "\n",
       "    .dataframe tbody tr th {\n",
       "        vertical-align: top;\n",
       "    }\n",
       "\n",
       "    .dataframe thead th {\n",
       "        text-align: right;\n",
       "    }\n",
       "</style>\n",
       "<table border=\"1\" class=\"dataframe\">\n",
       "  <thead>\n",
       "    <tr style=\"text-align: right;\">\n",
       "      <th></th>\n",
       "      <th>Rank</th>\n",
       "      <th>Year</th>\n",
       "    </tr>\n",
       "  </thead>\n",
       "  <tbody>\n",
       "    <tr>\n",
       "      <th>count</th>\n",
       "      <td>782.000000</td>\n",
       "      <td>782.000000</td>\n",
       "    </tr>\n",
       "    <tr>\n",
       "      <th>mean</th>\n",
       "      <td>391.500000</td>\n",
       "      <td>2006.620205</td>\n",
       "    </tr>\n",
       "    <tr>\n",
       "      <th>std</th>\n",
       "      <td>225.888247</td>\n",
       "      <td>10.026227</td>\n",
       "    </tr>\n",
       "    <tr>\n",
       "      <th>min</th>\n",
       "      <td>1.000000</td>\n",
       "      <td>1939.000000</td>\n",
       "    </tr>\n",
       "    <tr>\n",
       "      <th>25%</th>\n",
       "      <td>196.250000</td>\n",
       "      <td>2001.000000</td>\n",
       "    </tr>\n",
       "    <tr>\n",
       "      <th>50%</th>\n",
       "      <td>391.500000</td>\n",
       "      <td>2009.000000</td>\n",
       "    </tr>\n",
       "    <tr>\n",
       "      <th>75%</th>\n",
       "      <td>586.750000</td>\n",
       "      <td>2014.000000</td>\n",
       "    </tr>\n",
       "    <tr>\n",
       "      <th>max</th>\n",
       "      <td>782.000000</td>\n",
       "      <td>2019.000000</td>\n",
       "    </tr>\n",
       "  </tbody>\n",
       "</table>\n",
       "</div>"
      ],
      "text/plain": [
       "             Rank         Year\n",
       "count  782.000000   782.000000\n",
       "mean   391.500000  2006.620205\n",
       "std    225.888247    10.026227\n",
       "min      1.000000  1939.000000\n",
       "25%    196.250000  2001.000000\n",
       "50%    391.500000  2009.000000\n",
       "75%    586.750000  2014.000000\n",
       "max    782.000000  2019.000000"
      ]
     },
     "execution_count": 10,
     "metadata": {},
     "output_type": "execute_result"
    }
   ],
   "source": [
    "movies.describe()"
   ]
  },
  {
   "cell_type": "code",
   "execution_count": 11,
   "id": "b5474b01",
   "metadata": {},
   "outputs": [
    {
     "data": {
      "text/plain": [
       "782"
      ]
     },
     "execution_count": 11,
     "metadata": {},
     "output_type": "execute_result"
    }
   ],
   "source": [
    "len(movies)"
   ]
  },
  {
   "cell_type": "code",
   "execution_count": 12,
   "id": "85224cae",
   "metadata": {},
   "outputs": [
    {
     "data": {
      "text/plain": [
       "(782, 4)"
      ]
     },
     "execution_count": 12,
     "metadata": {},
     "output_type": "execute_result"
    }
   ],
   "source": [
    "movies.shape        # 4 because  we made Title as index column"
   ]
  },
  {
   "cell_type": "code",
   "execution_count": 13,
   "id": "827a6243",
   "metadata": {},
   "outputs": [
    {
     "data": {
      "text/plain": [
       "3128"
      ]
     },
     "execution_count": 13,
     "metadata": {},
     "output_type": "execute_result"
    }
   ],
   "source": [
    "movies.size"
   ]
  },
  {
   "cell_type": "code",
   "execution_count": 14,
   "id": "26b6bcaf",
   "metadata": {},
   "outputs": [
    {
     "data": {
      "text/plain": [
       "Rank       int64\n",
       "Studio    object\n",
       "Gross     object\n",
       "Year       int64\n",
       "dtype: object"
      ]
     },
     "execution_count": 14,
     "metadata": {},
     "output_type": "execute_result"
    }
   ],
   "source": [
    "movies.dtypes"
   ]
  },
  {
   "cell_type": "code",
   "execution_count": 15,
   "id": "034b3bc1",
   "metadata": {},
   "outputs": [
    {
     "data": {
      "text/html": [
       "<div>\n",
       "<style scoped>\n",
       "    .dataframe tbody tr th:only-of-type {\n",
       "        vertical-align: middle;\n",
       "    }\n",
       "\n",
       "    .dataframe tbody tr th {\n",
       "        vertical-align: top;\n",
       "    }\n",
       "\n",
       "    .dataframe thead th {\n",
       "        text-align: right;\n",
       "    }\n",
       "</style>\n",
       "<table border=\"1\" class=\"dataframe\">\n",
       "  <thead>\n",
       "    <tr style=\"text-align: right;\">\n",
       "      <th></th>\n",
       "      <th>Rank</th>\n",
       "      <th>Studio</th>\n",
       "      <th>Gross</th>\n",
       "      <th>Year</th>\n",
       "    </tr>\n",
       "    <tr>\n",
       "      <th>Title</th>\n",
       "      <th></th>\n",
       "      <th></th>\n",
       "      <th></th>\n",
       "      <th></th>\n",
       "    </tr>\n",
       "  </thead>\n",
       "  <tbody>\n",
       "    <tr>\n",
       "      <th>Avengers: Endgame</th>\n",
       "      <td>1</td>\n",
       "      <td>Buena Vista</td>\n",
       "      <td>$2,796.30</td>\n",
       "      <td>2019</td>\n",
       "    </tr>\n",
       "    <tr>\n",
       "      <th>Avatar</th>\n",
       "      <td>2</td>\n",
       "      <td>Fox</td>\n",
       "      <td>$2,789.70</td>\n",
       "      <td>2009</td>\n",
       "    </tr>\n",
       "    <tr>\n",
       "      <th>Titanic</th>\n",
       "      <td>3</td>\n",
       "      <td>Paramount</td>\n",
       "      <td>$2,187.50</td>\n",
       "      <td>1997</td>\n",
       "    </tr>\n",
       "    <tr>\n",
       "      <th>Star Wars: The Force Awakens</th>\n",
       "      <td>4</td>\n",
       "      <td>Buena Vista</td>\n",
       "      <td>$2,068.20</td>\n",
       "      <td>2015</td>\n",
       "    </tr>\n",
       "    <tr>\n",
       "      <th>Avengers: Infinity War</th>\n",
       "      <td>5</td>\n",
       "      <td>Buena Vista</td>\n",
       "      <td>$2,048.40</td>\n",
       "      <td>2018</td>\n",
       "    </tr>\n",
       "    <tr>\n",
       "      <th>Jurassic World</th>\n",
       "      <td>6</td>\n",
       "      <td>Universal</td>\n",
       "      <td>$1,671.70</td>\n",
       "      <td>2015</td>\n",
       "    </tr>\n",
       "    <tr>\n",
       "      <th>Marvel's The Avengers</th>\n",
       "      <td>7</td>\n",
       "      <td>Buena Vista</td>\n",
       "      <td>$1,518.80</td>\n",
       "      <td>2012</td>\n",
       "    </tr>\n",
       "    <tr>\n",
       "      <th>Furious 7</th>\n",
       "      <td>8</td>\n",
       "      <td>Universal</td>\n",
       "      <td>$1,516.00</td>\n",
       "      <td>2015</td>\n",
       "    </tr>\n",
       "    <tr>\n",
       "      <th>Avengers: Age of Ultron</th>\n",
       "      <td>9</td>\n",
       "      <td>Buena Vista</td>\n",
       "      <td>$1,405.40</td>\n",
       "      <td>2015</td>\n",
       "    </tr>\n",
       "    <tr>\n",
       "      <th>Black Panther</th>\n",
       "      <td>10</td>\n",
       "      <td>Buena Vista</td>\n",
       "      <td>$1,346.90</td>\n",
       "      <td>2018</td>\n",
       "    </tr>\n",
       "  </tbody>\n",
       "</table>\n",
       "</div>"
      ],
      "text/plain": [
       "                              Rank       Studio       Gross  Year\n",
       "Title                                                            \n",
       "Avengers: Endgame                1  Buena Vista  $2,796.30   2019\n",
       "Avatar                           2          Fox  $2,789.70   2009\n",
       "Titanic                          3    Paramount  $2,187.50   1997\n",
       "Star Wars: The Force Awakens     4  Buena Vista  $2,068.20   2015\n",
       "Avengers: Infinity War           5  Buena Vista  $2,048.40   2018\n",
       "Jurassic World                   6    Universal  $1,671.70   2015\n",
       "Marvel's The Avengers            7  Buena Vista  $1,518.80   2012\n",
       "Furious 7                        8    Universal  $1,516.00   2015\n",
       "Avengers: Age of Ultron          9  Buena Vista  $1,405.40   2015\n",
       "Black Panther                   10  Buena Vista  $1,346.90   2018"
      ]
     },
     "execution_count": 15,
     "metadata": {},
     "output_type": "execute_result"
    }
   ],
   "source": [
    "movies[0 : 10]"
   ]
  },
  {
   "cell_type": "code",
   "execution_count": 16,
   "id": "520a80ae",
   "metadata": {},
   "outputs": [
    {
     "data": {
      "text/html": [
       "<div>\n",
       "<style scoped>\n",
       "    .dataframe tbody tr th:only-of-type {\n",
       "        vertical-align: middle;\n",
       "    }\n",
       "\n",
       "    .dataframe tbody tr th {\n",
       "        vertical-align: top;\n",
       "    }\n",
       "\n",
       "    .dataframe thead th {\n",
       "        text-align: right;\n",
       "    }\n",
       "</style>\n",
       "<table border=\"1\" class=\"dataframe\">\n",
       "  <thead>\n",
       "    <tr style=\"text-align: right;\">\n",
       "      <th></th>\n",
       "      <th>Rank</th>\n",
       "      <th>Studio</th>\n",
       "      <th>Gross</th>\n",
       "      <th>Year</th>\n",
       "    </tr>\n",
       "    <tr>\n",
       "      <th>Title</th>\n",
       "      <th></th>\n",
       "      <th></th>\n",
       "      <th></th>\n",
       "      <th></th>\n",
       "    </tr>\n",
       "  </thead>\n",
       "  <tbody>\n",
       "    <tr>\n",
       "      <th>Avatar</th>\n",
       "      <td>2</td>\n",
       "      <td>Fox</td>\n",
       "      <td>$2,789.70</td>\n",
       "      <td>2009</td>\n",
       "    </tr>\n",
       "    <tr>\n",
       "      <th>Star Wars: The Force Awakens</th>\n",
       "      <td>4</td>\n",
       "      <td>Buena Vista</td>\n",
       "      <td>$2,068.20</td>\n",
       "      <td>2015</td>\n",
       "    </tr>\n",
       "    <tr>\n",
       "      <th>Jurassic World</th>\n",
       "      <td>6</td>\n",
       "      <td>Universal</td>\n",
       "      <td>$1,671.70</td>\n",
       "      <td>2015</td>\n",
       "    </tr>\n",
       "    <tr>\n",
       "      <th>Furious 7</th>\n",
       "      <td>8</td>\n",
       "      <td>Universal</td>\n",
       "      <td>$1,516.00</td>\n",
       "      <td>2015</td>\n",
       "    </tr>\n",
       "    <tr>\n",
       "      <th>Black Panther</th>\n",
       "      <td>10</td>\n",
       "      <td>Buena Vista</td>\n",
       "      <td>$1,346.90</td>\n",
       "      <td>2018</td>\n",
       "    </tr>\n",
       "  </tbody>\n",
       "</table>\n",
       "</div>"
      ],
      "text/plain": [
       "                              Rank       Studio       Gross  Year\n",
       "Title                                                            \n",
       "Avatar                           2          Fox  $2,789.70   2009\n",
       "Star Wars: The Force Awakens     4  Buena Vista  $2,068.20   2015\n",
       "Jurassic World                   6    Universal  $1,671.70   2015\n",
       "Furious 7                        8    Universal  $1,516.00   2015\n",
       "Black Panther                   10  Buena Vista  $1,346.90   2018"
      ]
     },
     "execution_count": 16,
     "metadata": {},
     "output_type": "execute_result"
    }
   ],
   "source": [
    "movies[1 : 10 : 2]"
   ]
  },
  {
   "cell_type": "code",
   "execution_count": 17,
   "id": "bd838307",
   "metadata": {},
   "outputs": [
    {
     "data": {
      "text/plain": [
       "Title\n",
       "Avatar                           2\n",
       "Star Wars: The Force Awakens     4\n",
       "Jurassic World                   6\n",
       "Furious 7                        8\n",
       "Black Panther                   10\n",
       "Name: Rank, dtype: int64"
      ]
     },
     "execution_count": 17,
     "metadata": {},
     "output_type": "execute_result"
    }
   ],
   "source": [
    "movies['Rank'][1 : 10 : 2]"
   ]
  },
  {
   "cell_type": "markdown",
   "id": "aee175a9",
   "metadata": {},
   "source": [
    "#### UNDERSTANDING LOC [ ] (stop index included)                                                      \n",
    "#### ( all cannot be possible coz : we Indexed Title Column)\n",
    "\n",
    "- data_frame.loc[ row_number]\n",
    "\n",
    "- data_frame.loc[ row_number, [column_name,...]]\n",
    "\n",
    "- data_frame.loc[ start: stop]\n",
    "\n",
    "- data_frame.loc[ start: stop, \"column_name\"]\n",
    "\n",
    "- data_frame.loc[ start: stop, [\"column_1, column_2,... \"]]\n",
    "\n",
    "- data_frame.loc[ start: stop, \"column_1\": \"column_n\"]"
   ]
  },
  {
   "cell_type": "code",
   "execution_count": 18,
   "id": "c9ad8dff",
   "metadata": {},
   "outputs": [
    {
     "data": {
      "text/plain": [
       "Rank               2\n",
       "Studio           Fox\n",
       "Gross     $2,789.70 \n",
       "Year            2009\n",
       "Name: Avatar, dtype: object"
      ]
     },
     "execution_count": 18,
     "metadata": {},
     "output_type": "execute_result"
    }
   ],
   "source": [
    "movies.iloc[1]  # Displays 1st row  generally  LOC is used , but title is indexed so ILOC is used"
   ]
  },
  {
   "cell_type": "markdown",
   "id": "9dc176bb",
   "metadata": {},
   "source": [
    "### without TITLE as INDEX "
   ]
  },
  {
   "cell_type": "code",
   "execution_count": 19,
   "id": "ee1c10d9",
   "metadata": {},
   "outputs": [
    {
     "data": {
      "text/html": [
       "<div>\n",
       "<style scoped>\n",
       "    .dataframe tbody tr th:only-of-type {\n",
       "        vertical-align: middle;\n",
       "    }\n",
       "\n",
       "    .dataframe tbody tr th {\n",
       "        vertical-align: top;\n",
       "    }\n",
       "\n",
       "    .dataframe thead th {\n",
       "        text-align: right;\n",
       "    }\n",
       "</style>\n",
       "<table border=\"1\" class=\"dataframe\">\n",
       "  <thead>\n",
       "    <tr style=\"text-align: right;\">\n",
       "      <th></th>\n",
       "      <th>Rank</th>\n",
       "      <th>Title</th>\n",
       "      <th>Studio</th>\n",
       "      <th>Gross</th>\n",
       "      <th>Year</th>\n",
       "    </tr>\n",
       "  </thead>\n",
       "  <tbody>\n",
       "    <tr>\n",
       "      <th>0</th>\n",
       "      <td>1</td>\n",
       "      <td>Avengers: Endgame</td>\n",
       "      <td>Buena Vista</td>\n",
       "      <td>$2,796.30</td>\n",
       "      <td>2019</td>\n",
       "    </tr>\n",
       "    <tr>\n",
       "      <th>1</th>\n",
       "      <td>2</td>\n",
       "      <td>Avatar</td>\n",
       "      <td>Fox</td>\n",
       "      <td>$2,789.70</td>\n",
       "      <td>2009</td>\n",
       "    </tr>\n",
       "    <tr>\n",
       "      <th>2</th>\n",
       "      <td>3</td>\n",
       "      <td>Titanic</td>\n",
       "      <td>Paramount</td>\n",
       "      <td>$2,187.50</td>\n",
       "      <td>1997</td>\n",
       "    </tr>\n",
       "    <tr>\n",
       "      <th>3</th>\n",
       "      <td>4</td>\n",
       "      <td>Star Wars: The Force Awakens</td>\n",
       "      <td>Buena Vista</td>\n",
       "      <td>$2,068.20</td>\n",
       "      <td>2015</td>\n",
       "    </tr>\n",
       "    <tr>\n",
       "      <th>4</th>\n",
       "      <td>5</td>\n",
       "      <td>Avengers: Infinity War</td>\n",
       "      <td>Buena Vista</td>\n",
       "      <td>$2,048.40</td>\n",
       "      <td>2018</td>\n",
       "    </tr>\n",
       "    <tr>\n",
       "      <th>...</th>\n",
       "      <td>...</td>\n",
       "      <td>...</td>\n",
       "      <td>...</td>\n",
       "      <td>...</td>\n",
       "      <td>...</td>\n",
       "    </tr>\n",
       "    <tr>\n",
       "      <th>777</th>\n",
       "      <td>778</td>\n",
       "      <td>Yogi Bear</td>\n",
       "      <td>Warner Brothers</td>\n",
       "      <td>$201.60</td>\n",
       "      <td>2010</td>\n",
       "    </tr>\n",
       "    <tr>\n",
       "      <th>778</th>\n",
       "      <td>779</td>\n",
       "      <td>Garfield: The Movie</td>\n",
       "      <td>Fox</td>\n",
       "      <td>$200.80</td>\n",
       "      <td>2004</td>\n",
       "    </tr>\n",
       "    <tr>\n",
       "      <th>779</th>\n",
       "      <td>780</td>\n",
       "      <td>Cats &amp; Dogs</td>\n",
       "      <td>Warner Brothers</td>\n",
       "      <td>$200.70</td>\n",
       "      <td>2001</td>\n",
       "    </tr>\n",
       "    <tr>\n",
       "      <th>780</th>\n",
       "      <td>781</td>\n",
       "      <td>The Hunt for Red October</td>\n",
       "      <td>Paramount</td>\n",
       "      <td>$200.50</td>\n",
       "      <td>1990</td>\n",
       "    </tr>\n",
       "    <tr>\n",
       "      <th>781</th>\n",
       "      <td>782</td>\n",
       "      <td>Valkyrie</td>\n",
       "      <td>MGM</td>\n",
       "      <td>$200.30</td>\n",
       "      <td>2008</td>\n",
       "    </tr>\n",
       "  </tbody>\n",
       "</table>\n",
       "<p>782 rows × 5 columns</p>\n",
       "</div>"
      ],
      "text/plain": [
       "     Rank                         Title           Studio       Gross  Year\n",
       "0       1             Avengers: Endgame      Buena Vista  $2,796.30   2019\n",
       "1       2                        Avatar              Fox  $2,789.70   2009\n",
       "2       3                       Titanic        Paramount  $2,187.50   1997\n",
       "3       4  Star Wars: The Force Awakens      Buena Vista  $2,068.20   2015\n",
       "4       5        Avengers: Infinity War      Buena Vista  $2,048.40   2018\n",
       "..    ...                           ...              ...         ...   ...\n",
       "777   778                     Yogi Bear  Warner Brothers    $201.60   2010\n",
       "778   779           Garfield: The Movie              Fox    $200.80   2004\n",
       "779   780                   Cats & Dogs  Warner Brothers    $200.70   2001\n",
       "780   781      The Hunt for Red October        Paramount    $200.50   1990\n",
       "781   782                      Valkyrie              MGM    $200.30   2008\n",
       "\n",
       "[782 rows x 5 columns]"
      ]
     },
     "execution_count": 19,
     "metadata": {},
     "output_type": "execute_result"
    }
   ],
   "source": [
    "pd.read_csv('movies.csv') "
   ]
  },
  {
   "cell_type": "code",
   "execution_count": 20,
   "id": "d22ca005",
   "metadata": {},
   "outputs": [
    {
     "name": "stdout",
     "output_type": "stream",
     "text": [
      "first_col_gross : \n",
      " Gross    $2,789.70 \n",
      "Name: 1, dtype: object\n",
      "\n",
      " start_stop : \n",
      "    Rank                         Title       Studio       Gross  Year\n",
      "0     1             Avengers: Endgame  Buena Vista  $2,796.30   2019\n",
      "1     2                        Avatar          Fox  $2,789.70   2009\n",
      "2     3                       Titanic    Paramount  $2,187.50   1997\n",
      "3     4  Star Wars: The Force Awakens  Buena Vista  $2,068.20   2015\n",
      "\n",
      " start_stop_col : \n",
      "    Year\n",
      "0  2019\n",
      "1  2009\n",
      "2  1997\n",
      "3  2015\n",
      "\n",
      " start_stop_cols : \n",
      "    Year       Studio\n",
      "0  2019  Buena Vista\n",
      "1  2009          Fox\n",
      "2  1997    Paramount\n",
      "3  2015  Buena Vista\n",
      "\n",
      " start_stop_col_to_col : \n",
      "         Studio       Gross  Year\n",
      "0  Buena Vista  $2,796.30   2019\n",
      "1          Fox  $2,789.70   2009\n",
      "2    Paramount  $2,187.50   1997\n",
      "3  Buena Vista  $2,068.20   2015\n"
     ]
    }
   ],
   "source": [
    "movie = pd.read_csv('movies.csv')    \n",
    "\n",
    "first_col_gross = movie.loc[1,['Gross']]\n",
    "start_stop = movie.loc[0:3]         # Stop index included \n",
    "start_stop_col = movie.loc[0:3 , ['Year']]\n",
    "start_stop_cols = movie.loc[0:3 ,['Year' , 'Studio']]\n",
    "start_stop_col_to_col  = movie.loc[0:3 ,'Studio' : 'Year']     # studio column to Year column \n",
    "\n",
    "\n",
    "print('first_col_gross : \\n' , first_col_gross)\n",
    "print('\\n start_stop : \\n' , start_stop)\n",
    "print('\\n start_stop_col : \\n' , start_stop_col)\n",
    "print('\\n start_stop_cols : \\n' , start_stop_cols)\n",
    "print('\\n start_stop_col_to_col : \\n' , start_stop_col_to_col)\n"
   ]
  },
  {
   "cell_type": "code",
   "execution_count": 21,
   "id": "a2552024",
   "metadata": {},
   "outputs": [
    {
     "ename": "KeyError",
     "evalue": "'Avatar'",
     "output_type": "error",
     "traceback": [
      "\u001b[1;31m---------------------------------------------------------------------------\u001b[0m",
      "\u001b[1;31mKeyError\u001b[0m                                  Traceback (most recent call last)",
      "Cell \u001b[1;32mIn[21], line 1\u001b[0m\n\u001b[1;32m----> 1\u001b[0m \u001b[43mmovie\u001b[49m\u001b[38;5;241;43m.\u001b[39;49m\u001b[43mloc\u001b[49m\u001b[43m[\u001b[49m\u001b[38;5;124;43m'\u001b[39;49m\u001b[38;5;124;43mAvatar\u001b[39;49m\u001b[38;5;124;43m'\u001b[39;49m\u001b[43m]\u001b[49m         \u001b[38;5;66;03m# Here \"Avatar\" is inside a column, not the index.  displays ERROR\u001b[39;00m\n",
      "File \u001b[1;32mc:\\Users\\Abhii\\OneDrive\\Desktop\\CSS\\DT_13\\venv\\lib\\site-packages\\pandas\\core\\indexing.py:1191\u001b[0m, in \u001b[0;36m_LocationIndexer.__getitem__\u001b[1;34m(self, key)\u001b[0m\n\u001b[0;32m   1189\u001b[0m maybe_callable \u001b[38;5;241m=\u001b[39m com\u001b[38;5;241m.\u001b[39mapply_if_callable(key, \u001b[38;5;28mself\u001b[39m\u001b[38;5;241m.\u001b[39mobj)\n\u001b[0;32m   1190\u001b[0m maybe_callable \u001b[38;5;241m=\u001b[39m \u001b[38;5;28mself\u001b[39m\u001b[38;5;241m.\u001b[39m_check_deprecated_callable_usage(key, maybe_callable)\n\u001b[1;32m-> 1191\u001b[0m \u001b[38;5;28;01mreturn\u001b[39;00m \u001b[38;5;28;43mself\u001b[39;49m\u001b[38;5;241;43m.\u001b[39;49m\u001b[43m_getitem_axis\u001b[49m\u001b[43m(\u001b[49m\u001b[43mmaybe_callable\u001b[49m\u001b[43m,\u001b[49m\u001b[43m \u001b[49m\u001b[43maxis\u001b[49m\u001b[38;5;241;43m=\u001b[39;49m\u001b[43maxis\u001b[49m\u001b[43m)\u001b[49m\n",
      "File \u001b[1;32mc:\\Users\\Abhii\\OneDrive\\Desktop\\CSS\\DT_13\\venv\\lib\\site-packages\\pandas\\core\\indexing.py:1431\u001b[0m, in \u001b[0;36m_LocIndexer._getitem_axis\u001b[1;34m(self, key, axis)\u001b[0m\n\u001b[0;32m   1429\u001b[0m \u001b[38;5;66;03m# fall thru to straight lookup\u001b[39;00m\n\u001b[0;32m   1430\u001b[0m \u001b[38;5;28mself\u001b[39m\u001b[38;5;241m.\u001b[39m_validate_key(key, axis)\n\u001b[1;32m-> 1431\u001b[0m \u001b[38;5;28;01mreturn\u001b[39;00m \u001b[38;5;28;43mself\u001b[39;49m\u001b[38;5;241;43m.\u001b[39;49m\u001b[43m_get_label\u001b[49m\u001b[43m(\u001b[49m\u001b[43mkey\u001b[49m\u001b[43m,\u001b[49m\u001b[43m \u001b[49m\u001b[43maxis\u001b[49m\u001b[38;5;241;43m=\u001b[39;49m\u001b[43maxis\u001b[49m\u001b[43m)\u001b[49m\n",
      "File \u001b[1;32mc:\\Users\\Abhii\\OneDrive\\Desktop\\CSS\\DT_13\\venv\\lib\\site-packages\\pandas\\core\\indexing.py:1381\u001b[0m, in \u001b[0;36m_LocIndexer._get_label\u001b[1;34m(self, label, axis)\u001b[0m\n\u001b[0;32m   1379\u001b[0m \u001b[38;5;28;01mdef\u001b[39;00m\u001b[38;5;250m \u001b[39m\u001b[38;5;21m_get_label\u001b[39m(\u001b[38;5;28mself\u001b[39m, label, axis: AxisInt):\n\u001b[0;32m   1380\u001b[0m     \u001b[38;5;66;03m# GH#5567 this will fail if the label is not present in the axis.\u001b[39;00m\n\u001b[1;32m-> 1381\u001b[0m     \u001b[38;5;28;01mreturn\u001b[39;00m \u001b[38;5;28;43mself\u001b[39;49m\u001b[38;5;241;43m.\u001b[39;49m\u001b[43mobj\u001b[49m\u001b[38;5;241;43m.\u001b[39;49m\u001b[43mxs\u001b[49m\u001b[43m(\u001b[49m\u001b[43mlabel\u001b[49m\u001b[43m,\u001b[49m\u001b[43m \u001b[49m\u001b[43maxis\u001b[49m\u001b[38;5;241;43m=\u001b[39;49m\u001b[43maxis\u001b[49m\u001b[43m)\u001b[49m\n",
      "File \u001b[1;32mc:\\Users\\Abhii\\OneDrive\\Desktop\\CSS\\DT_13\\venv\\lib\\site-packages\\pandas\\core\\generic.py:4320\u001b[0m, in \u001b[0;36mNDFrame.xs\u001b[1;34m(self, key, axis, level, drop_level)\u001b[0m\n\u001b[0;32m   4318\u001b[0m             new_index \u001b[38;5;241m=\u001b[39m index[loc]\n\u001b[0;32m   4319\u001b[0m \u001b[38;5;28;01melse\u001b[39;00m:\n\u001b[1;32m-> 4320\u001b[0m     loc \u001b[38;5;241m=\u001b[39m \u001b[43mindex\u001b[49m\u001b[38;5;241;43m.\u001b[39;49m\u001b[43mget_loc\u001b[49m\u001b[43m(\u001b[49m\u001b[43mkey\u001b[49m\u001b[43m)\u001b[49m\n\u001b[0;32m   4322\u001b[0m     \u001b[38;5;28;01mif\u001b[39;00m \u001b[38;5;28misinstance\u001b[39m(loc, np\u001b[38;5;241m.\u001b[39mndarray):\n\u001b[0;32m   4323\u001b[0m         \u001b[38;5;28;01mif\u001b[39;00m loc\u001b[38;5;241m.\u001b[39mdtype \u001b[38;5;241m==\u001b[39m np\u001b[38;5;241m.\u001b[39mbool_:\n",
      "File \u001b[1;32mc:\\Users\\Abhii\\OneDrive\\Desktop\\CSS\\DT_13\\venv\\lib\\site-packages\\pandas\\core\\indexes\\range.py:417\u001b[0m, in \u001b[0;36mRangeIndex.get_loc\u001b[1;34m(self, key)\u001b[0m\n\u001b[0;32m    415\u001b[0m         \u001b[38;5;28;01mraise\u001b[39;00m \u001b[38;5;167;01mKeyError\u001b[39;00m(key) \u001b[38;5;28;01mfrom\u001b[39;00m\u001b[38;5;250m \u001b[39m\u001b[38;5;21;01merr\u001b[39;00m\n\u001b[0;32m    416\u001b[0m \u001b[38;5;28;01mif\u001b[39;00m \u001b[38;5;28misinstance\u001b[39m(key, Hashable):\n\u001b[1;32m--> 417\u001b[0m     \u001b[38;5;28;01mraise\u001b[39;00m \u001b[38;5;167;01mKeyError\u001b[39;00m(key)\n\u001b[0;32m    418\u001b[0m \u001b[38;5;28mself\u001b[39m\u001b[38;5;241m.\u001b[39m_check_indexing_error(key)\n\u001b[0;32m    419\u001b[0m \u001b[38;5;28;01mraise\u001b[39;00m \u001b[38;5;167;01mKeyError\u001b[39;00m(key)\n",
      "\u001b[1;31mKeyError\u001b[0m: 'Avatar'"
     ]
    }
   ],
   "source": [
    "movie.loc['Avatar']         # Here \"Avatar\" is inside a column, not the index.  displays ERROR"
   ]
  },
  {
   "cell_type": "code",
   "execution_count": null,
   "id": "62756403",
   "metadata": {},
   "outputs": [],
   "source": [
    "movie[movie[\"Title\"] == \"Avatar\"]\n"
   ]
  },
  {
   "cell_type": "markdown",
   "id": "682a6a2c",
   "metadata": {},
   "source": [
    "#### UNDERSTANDING iLOC [ ] (stop index excluded)\n",
    "\n",
    "- data_frame.iloc[ row_number,column_number] ----------------------> ( in LOC row num  - col name )\n",
    "\n",
    "- data_frame.iloc[ row_start: row_stop, col_start: col_stop]\n",
    "\n",
    "- data_frame.iloc[ start: stop, \"column_number\"]\n",
    "\n",
    "- data_frame.iloc[ [row_1, row_2,...]]\n",
    "\n",
    "- data_frame.iloc[:, [col_1, col_2,...]]\n",
    "\n",
    "- data_frame.iloc[start: stop, [col_1, col_2,...]]"
   ]
  },
  {
   "cell_type": "code",
   "execution_count": null,
   "id": "1c2e7898",
   "metadata": {},
   "outputs": [],
   "source": [
    "print(movies)"
   ]
  },
  {
   "cell_type": "code",
   "execution_count": null,
   "id": "2690773b",
   "metadata": {},
   "outputs": [],
   "source": [
    "movies.loc[1]         # As TITLE Is Indexed so loc wont work  ERROR"
   ]
  },
  {
   "cell_type": "code",
   "execution_count": null,
   "id": "9b6e4653",
   "metadata": {},
   "outputs": [],
   "source": [
    "movies.iloc[1]"
   ]
  },
  {
   "cell_type": "code",
   "execution_count": null,
   "id": "3409a651",
   "metadata": {},
   "outputs": [],
   "source": [
    "row_num_col_num1 = movies.iloc[1,1]          # ( here 0 column is Rank not Title)  \n",
    "row_num_col_num2 =  movies.iloc[0,3]\n",
    "\n",
    "start_stop = movies.iloc[1:6]\n",
    "\n",
    "row_start_row_stop_col_start_col_stop = movies.iloc[10:13 , 1:4]\n",
    "\n",
    "start_stop_col_Num = movies.iloc[1:4 , 3]\n",
    "\n",
    "\n",
    "\n",
    "print('\\n row_num_col_num1 : \\n' , row_num_col_num1)\n",
    "print('\\n row_num_col_num2 : \\n' , row_num_col_num2)\n",
    "print('\\n start_stop  : \\n' , start_stop)\n",
    "print('\\n row_start: row_stop, col_start: col_stop : \\n' , row_start_row_stop_col_start_col_stop )\n",
    "print()\n",
    "print('\\nstart_stop_col_Num : \\n' , start_stop_col_Num)\n"
   ]
  },
  {
   "cell_type": "code",
   "execution_count": null,
   "id": "8d83035c",
   "metadata": {},
   "outputs": [],
   "source": [
    "rows = movies.iloc[[4,5,6,11]]\n",
    "print('\\n rows : \\n ' , rows)\n",
    "\n",
    "start_stop_col_Nums = movies.iloc[0:3 ,[1,3]]\n",
    "print('\\nstart_stop_col_Nums : \\n' , start_stop_col_Nums)\n",
    "\n",
    "rows_cols = movies.iloc[[1,2,6 ], [1,2]]\n",
    "print('\\n rows_cols : \\n ' , rows_cols)\n",
    "\n",
    "columns = movies.iloc[:,[1,3]]\n",
    "print('\\n columns : \\n ' , columns)\n"
   ]
  },
  {
   "cell_type": "code",
   "execution_count": null,
   "id": "d7b8e2e8",
   "metadata": {},
   "outputs": [],
   "source": [
    "movie.iloc[[1,2,6 ], [1,2]]      # For MOVIES 1 2 6 nums wont display coz Totle is INDEXED\n"
   ]
  },
  {
   "cell_type": "markdown",
   "id": "00d071e0",
   "metadata": {},
   "source": [
    "### Sorting\n",
    "\n",
    "- Data_frame.sort_values(\"column_name\")\n",
    "\n",
    "- Data_frame.sort_values(\"column_name\", ascending=False)\n",
    "\n",
    "- Data_frame.sort_values([\"column_1\",\"column_2\"])\n",
    "\n",
    "- Data_frame.sort_values([\"column_1\",\"column_2\"], ascending=[0,1])\n",
    "\n"
   ]
  },
  {
   "cell_type": "code",
   "execution_count": null,
   "id": "b8de6233",
   "metadata": {},
   "outputs": [],
   "source": [
    "\n",
    "print('Ascending : ' , movies.sort_values('Year'))\n",
    "\n",
    "print('\\nDecending : ' , movies.sort_values('Year' , ascending=False))\n",
    "\n"
   ]
  },
  {
   "cell_type": "code",
   "execution_count": null,
   "id": "2fe78de6",
   "metadata": {},
   "outputs": [],
   "source": [
    "print('Ascending : ' , movies.sort_values(by = 'Year').head(5))\n",
    "\n",
    "print('\\nDecending : ' , movies.sort_values(by= 'Year' , ascending=False).head(5))"
   ]
  },
  {
   "cell_type": "markdown",
   "id": "acbaad3f",
   "metadata": {},
   "source": [
    "#### Sorting By 2 Columns"
   ]
  },
  {
   "cell_type": "code",
   "execution_count": null,
   "id": "65de6e41",
   "metadata": {},
   "outputs": [],
   "source": [
    "print( movies.sort_values(['Studio',  'Year' ] , ascending = [True, False]) .head(5))\n",
    "\n"
   ]
  },
  {
   "cell_type": "markdown",
   "id": "17619cdd",
   "metadata": {},
   "source": [
    "#### Sort Using INDEX"
   ]
  },
  {
   "cell_type": "code",
   "execution_count": null,
   "id": "e7bd4fdd",
   "metadata": {},
   "outputs": [],
   "source": [
    "print(movies.sort_index().head(10))\n",
    "print(movies.sort_index().tail(10))"
   ]
  },
  {
   "cell_type": "code",
   "execution_count": null,
   "id": "040c91dc",
   "metadata": {},
   "outputs": [],
   "source": [
    "## DESCENDING\n",
    "\n",
    "print(movies.sort_index(ascending=False).tail(10))\n"
   ]
  },
  {
   "cell_type": "code",
   "execution_count": null,
   "id": "b321cefb",
   "metadata": {},
   "outputs": [],
   "source": [
    "print(movies[\"Studio\"])\n",
    "\n",
    "print('\\n')\n",
    "print(movies[\"Studio\"].value_counts())\n",
    "\n",
    "print('\\n')\n",
    "print(movies[\"Studio\"].value_counts().head(2))"
   ]
  },
  {
   "cell_type": "code",
   "execution_count": null,
   "id": "26f9f95b",
   "metadata": {},
   "outputs": [],
   "source": [
    "print(type(movies['Studio']))"
   ]
  },
  {
   "cell_type": "markdown",
   "id": "3492d323",
   "metadata": {},
   "source": [
    "### Manipulating DataFrame\n",
    "\n",
    "- ADDING COLUMN\n",
    "\n",
    "   - Data_frame['new_col_name']=default_value\n",
    "\n",
    "   - Data_frame['new_col_name']=Expression / Condition\n",
    "\n",
    "- REMOVING COLUMN\n",
    "\n",
    "    - Data_frame.drop(columns=\"column_name\")\n",
    "\n",
    "    - Data_frame.drop(columns=\"column_name\", inplace=True)"
   ]
  },
  {
   "cell_type": "code",
   "execution_count": null,
   "id": "e99d5cfe",
   "metadata": {},
   "outputs": [],
   "source": [
    "pd.read_csv('movies.csv') \n"
   ]
  },
  {
   "cell_type": "code",
   "execution_count": null,
   "id": "274f6b12",
   "metadata": {},
   "outputs": [],
   "source": [
    "not_indexed = pd.read_csv('movies.csv') \n",
    "not_indexed['double_year'] = 0\n",
    "print(not_indexed)"
   ]
  },
  {
   "cell_type": "code",
   "execution_count": null,
   "id": "02e2a0e2",
   "metadata": {},
   "outputs": [],
   "source": [
    "not_indexed['double_year'] = not_indexed['Year'] + not_indexed['Year']\n",
    "print(not_indexed)"
   ]
  },
  {
   "cell_type": "markdown",
   "id": "d7bf8432",
   "metadata": {},
   "source": [
    "#### Deleting"
   ]
  },
  {
   "cell_type": "code",
   "execution_count": null,
   "id": "52148e38",
   "metadata": {},
   "outputs": [],
   "source": [
    "not_indexed.drop(columns='Year')  # I alrrady deleted double_year , again i rewritten the code to YEAR "
   ]
  },
  {
   "cell_type": "code",
   "execution_count": null,
   "id": "9b2f55da",
   "metadata": {},
   "outputs": [],
   "source": [
    "not_indexed.drop(columns='Gross' , inplace=True) "
   ]
  },
  {
   "cell_type": "code",
   "execution_count": null,
   "id": "7cd8073a",
   "metadata": {},
   "outputs": [],
   "source": [
    "not_indexed"
   ]
  },
  {
   "cell_type": "code",
   "execution_count": null,
   "id": "7aeb789f",
   "metadata": {},
   "outputs": [],
   "source": [
    "# The original not_indexed remains unchanged.\n",
    "\n",
    "# You must assign it if you want the change to persist\n",
    "\n",
    "not_indexed.drop(columns='Year' , inplace=False) \n"
   ]
  },
  {
   "cell_type": "markdown",
   "id": "138fe7f1",
   "metadata": {},
   "source": [
    "### FILTERING"
   ]
  },
  {
   "cell_type": "code",
   "execution_count": null,
   "id": "a81e2a84",
   "metadata": {},
   "outputs": [],
   "source": [
    "print(movies[\"Studio\"] == 'Warner Brothers')"
   ]
  },
  {
   "cell_type": "code",
   "execution_count": null,
   "id": "95caca6a",
   "metadata": {},
   "outputs": [],
   "source": [
    "movies[movies[\"Studio\"] == 'Warner Brothers']\n"
   ]
  },
  {
   "cell_type": "code",
   "execution_count": null,
   "id": "38b29f6f",
   "metadata": {},
   "outputs": [],
   "source": [
    "movies_by_Warner_Brothers = (movies[\"Studio\"] == 'Warner Brothers')\n",
    "movies_in_2015 = movies[\"Year\"] == 2015\n",
    "\n",
    "# Movies by Warner_Brothers in 2015\n",
    "\n",
    "movies[movies_by_Warner_Brothers & movies_in_2015 ]"
   ]
  },
  {
   "cell_type": "code",
   "execution_count": null,
   "id": "80338850",
   "metadata": {},
   "outputs": [],
   "source": [
    "movies[movies[\"Year\"] < 1975]"
   ]
  },
  {
   "cell_type": "code",
   "execution_count": null,
   "id": "e9600380",
   "metadata": {},
   "outputs": [],
   "source": [
    "print( ' Mid 80s')\n",
    "\n",
    "movies[movies[\"Year\"].between(1980 , 1989)]"
   ]
  },
  {
   "cell_type": "code",
   "execution_count": null,
   "id": "504f9e0d",
   "metadata": {},
   "outputs": [],
   "source": [
    "movies.index"
   ]
  },
  {
   "cell_type": "markdown",
   "id": "1fcd2ee0",
   "metadata": {},
   "source": [
    "### Applying String Methods - We have to use str coz it is index data type"
   ]
  },
  {
   "cell_type": "code",
   "execution_count": null,
   "id": "51874ea4",
   "metadata": {},
   "outputs": [],
   "source": [
    "has_dark = movies.index.str.lower().str.contains('dark')\n",
    "movies[has_dark]"
   ]
  },
  {
   "cell_type": "code",
   "execution_count": null,
   "id": "53b103e5",
   "metadata": {},
   "outputs": [],
   "source": [
    "movies.head(5)"
   ]
  },
  {
   "cell_type": "markdown",
   "id": "b9d860f2",
   "metadata": {},
   "source": [
    "##### We cant apply arithematic operations to Text formats , so We are Convertong text to Numerical\n",
    "\n",
    "- Some characters (like $, ., ^, *) have special meanings in regex.\n",
    "\n",
    "- In regex:\n",
    "\n",
    "    - $ means “end of string”, not the dollar sign.\n",
    "\n",
    "    - , is fine, but others like . or * can behave unexpectedly."
   ]
  },
  {
   "cell_type": "code",
   "execution_count": 22,
   "id": "fdd30054",
   "metadata": {},
   "outputs": [
    {
     "data": {
      "text/plain": [
       "Title\n",
       "Avengers: Endgame               2796.30 \n",
       "Avatar                          2789.70 \n",
       "Titanic                         2187.50 \n",
       "Star Wars: The Force Awakens    2068.20 \n",
       "Avengers: Infinity War          2048.40 \n",
       "                                  ...   \n",
       "Yogi Bear                        201.60 \n",
       "Garfield: The Movie              200.80 \n",
       "Cats & Dogs                      200.70 \n",
       "The Hunt for Red October         200.50 \n",
       "Valkyrie                         200.30 \n",
       "Name: Gross, Length: 782, dtype: object"
      ]
     },
     "execution_count": 22,
     "metadata": {},
     "output_type": "execute_result"
    }
   ],
   "source": [
    "movies['Gross'].str.replace('$' , '' , regex=False).str.replace(',' , '' , regex=False)    # regex : regular expression - used to search data and match columns"
   ]
  },
  {
   "cell_type": "markdown",
   "id": "86894893",
   "metadata": {},
   "source": [
    "##### Still it is Displaying as Object  - Converting to Float"
   ]
  },
  {
   "cell_type": "code",
   "execution_count": null,
   "id": "fd5c93c5",
   "metadata": {},
   "outputs": [],
   "source": [
    "movies['Gross'] = movies['Gross'].astype(str) \\\n",
    "    .str.replace('$', '', regex=False) \\\n",
    "    .str.replace(',', '', regex=False) \\\n",
    "    .astype(float)\n"
   ]
  },
  {
   "cell_type": "markdown",
   "id": "b37c7a3e",
   "metadata": {},
   "source": [
    "#### Gross Column has not Updated to Float - We have to Update"
   ]
  },
  {
   "cell_type": "code",
   "execution_count": null,
   "id": "04d0976c",
   "metadata": {},
   "outputs": [],
   "source": [
    "movies.dtypes"
   ]
  },
  {
   "cell_type": "code",
   "execution_count": null,
   "id": "9c68ae6f",
   "metadata": {},
   "outputs": [],
   "source": [
    "movies['Gross'] = movies['Gross'].str.replace('$' , '' , regex=False).str.replace(',' , '' , regex=False).astype(float)    # regex : regular expression - used to search data and match columns"
   ]
  },
  {
   "cell_type": "code",
   "execution_count": null,
   "id": "a5735915",
   "metadata": {},
   "outputs": [],
   "source": [
    "movies.dtypes"
   ]
  },
  {
   "cell_type": "markdown",
   "id": "d214a1e2",
   "metadata": {},
   "source": [
    "## GroupBy  ( movies based on studio)"
   ]
  },
  {
   "cell_type": "code",
   "execution_count": null,
   "id": "7eee7b5d",
   "metadata": {},
   "outputs": [],
   "source": [
    "movies['Gross'].mean()"
   ]
  },
  {
   "cell_type": "code",
   "execution_count": null,
   "id": "f4129520",
   "metadata": {},
   "outputs": [],
   "source": [
    "Studio = movies.groupby('Studio')"
   ]
  },
  {
   "cell_type": "code",
   "execution_count": null,
   "id": "6a635cc6",
   "metadata": {},
   "outputs": [],
   "source": [
    "movies['Studio'].value_counts()"
   ]
  },
  {
   "cell_type": "code",
   "execution_count": null,
   "id": "8d2c015b",
   "metadata": {},
   "outputs": [],
   "source": [
    "Studio.count()"
   ]
  },
  {
   "cell_type": "code",
   "execution_count": null,
   "id": "4cd25c80",
   "metadata": {},
   "outputs": [],
   "source": [
    "# Display all Columns\n",
    "\n",
    "Studio.count().sort_values(by = 'Gross' , ascending=False)"
   ]
  },
  {
   "cell_type": "code",
   "execution_count": null,
   "id": "252a72e1",
   "metadata": {},
   "outputs": [],
   "source": [
    " #Display only Gross Column\n",
    "\n",
    "Studio['Gross'].count().sort_values(ascending=False)"
   ]
  },
  {
   "cell_type": "markdown",
   "id": "d18e3976",
   "metadata": {},
   "source": [
    "### Total Gross Per Studio"
   ]
  },
  {
   "cell_type": "code",
   "execution_count": null,
   "id": "ec074948",
   "metadata": {},
   "outputs": [],
   "source": [
    "Studio['Gross'].sum()"
   ]
  },
  {
   "cell_type": "code",
   "execution_count": null,
   "id": "6a2a8aab",
   "metadata": {},
   "outputs": [],
   "source": [
    "Studio['Gross'].sum().sort_index()      # SORT ALPHABATICALY"
   ]
  },
  {
   "cell_type": "code",
   "execution_count": null,
   "id": "93a64cbd",
   "metadata": {},
   "outputs": [],
   "source": [
    "Studio['Gross'].sum().sort_values()      # SORT BY VALUES"
   ]
  },
  {
   "cell_type": "code",
   "execution_count": null,
   "id": "705f5324",
   "metadata": {},
   "outputs": [],
   "source": []
  }
 ],
 "metadata": {
  "kernelspec": {
   "display_name": "venv",
   "language": "python",
   "name": "python3"
  },
  "language_info": {
   "codemirror_mode": {
    "name": "ipython",
    "version": 3
   },
   "file_extension": ".py",
   "mimetype": "text/x-python",
   "name": "python",
   "nbconvert_exporter": "python",
   "pygments_lexer": "ipython3",
   "version": "3.9.13"
  }
 },
 "nbformat": 4,
 "nbformat_minor": 5
}
